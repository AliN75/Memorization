{
 "cells": [
  {
   "cell_type": "code",
   "execution_count": 1,
   "id": "529f41cd-fe9b-436a-a2b8-11d1eac144ce",
   "metadata": {},
   "outputs": [
    {
     "name": "stderr",
     "output_type": "stream",
     "text": [
      "/work/anaseh_umass_edu/anaconda3/envs/test/lib/python3.10/site-packages/tqdm/auto.py:22: TqdmWarning: IProgress not found. Please update jupyter and ipywidgets. See https://ipywidgets.readthedocs.io/en/stable/user_install.html\n",
      "  from .autonotebook import tqdm as notebook_tqdm\n"
     ]
    }
   ],
   "source": [
    "import pandas as pd\n",
    "import numpy as np\n",
    "import json\n",
    "import nltk\n",
    "import re\n",
    "import csv\n",
    "import matplotlib.pyplot as plt \n",
    "import seaborn as sns\n",
    "from tqdm import tqdm\n",
    "from sklearn.feature_extraction.text import TfidfVectorizer\n",
    "from sklearn.model_selection import train_test_split\n",
    "from transformers import GPT2Tokenizer, AutoModelForCausalLM, TrainingArguments, Trainer, AutoConfig, GPTNeoForCausalLM\n",
    "import torch\n",
    "import pandas as pd\n",
    "from torch.utils.data import Dataset, DataLoader, random_split\n",
    "import os\n",
    "import openai\n",
    "from re import search"
   ]
  },
  {
   "cell_type": "code",
   "execution_count": 2,
   "id": "3b431e8c-f47b-47b9-82a0-208fc4b75343",
   "metadata": {},
   "outputs": [
    {
     "data": {
      "text/plain": [
       "1"
      ]
     },
     "execution_count": 2,
     "metadata": {},
     "output_type": "execute_result"
    }
   ],
   "source": [
    "torch.cuda.device_count()"
   ]
  },
  {
   "cell_type": "code",
   "execution_count": 3,
   "id": "af07e5f1-6eed-487e-88c2-14f117061b9a",
   "metadata": {},
   "outputs": [],
   "source": [
    "tokenizer = GPT2Tokenizer.from_pretrained(\"gpt2-large\")"
   ]
  },
  {
   "cell_type": "code",
   "execution_count": 4,
   "id": "5a40ac6a-050e-465f-b44e-13b7639aacf7",
   "metadata": {},
   "outputs": [],
   "source": [
    "df = pd.read_json('arxiv-metadata-oai-snapshot.json', lines=True)"
   ]
  },
  {
   "cell_type": "code",
   "execution_count": null,
   "id": "b60e3e7c-1b41-4d87-b607-8d4e57d0258b",
   "metadata": {},
   "outputs": [
    {
     "name": "stdout",
     "output_type": "stream",
     "text": [
      "10000\n",
      "50000\n",
      "200000\n",
      "500000\n"
     ]
    }
   ],
   "source": [
    "# To check the length of the texts\n",
    "\n",
    "max = 0\n",
    "num = 0\n",
    "for i in range(len(df)):\n",
    "    length = len(tokenizer(df[\"abstract\"][i]).input_ids)\n",
    "    if length > max:\n",
    "        max = length\n",
    "    if length > 1024:\n",
    "        num += 1"
   ]
  },
  {
   "cell_type": "code",
   "execution_count": 6,
   "id": "f8badb2c-474a-45ae-a0c3-78f61e8352fe",
   "metadata": {},
   "outputs": [
    {
     "data": {
      "text/html": [
       "<div>\n",
       "<style scoped>\n",
       "    .dataframe tbody tr th:only-of-type {\n",
       "        vertical-align: middle;\n",
       "    }\n",
       "\n",
       "    .dataframe tbody tr th {\n",
       "        vertical-align: top;\n",
       "    }\n",
       "\n",
       "    .dataframe thead th {\n",
       "        text-align: right;\n",
       "    }\n",
       "</style>\n",
       "<table border=\"1\" class=\"dataframe\">\n",
       "  <thead>\n",
       "    <tr style=\"text-align: right;\">\n",
       "      <th></th>\n",
       "      <th>id</th>\n",
       "      <th>submitter</th>\n",
       "      <th>authors</th>\n",
       "      <th>title</th>\n",
       "      <th>comments</th>\n",
       "      <th>journal-ref</th>\n",
       "      <th>doi</th>\n",
       "      <th>report-no</th>\n",
       "      <th>categories</th>\n",
       "      <th>license</th>\n",
       "      <th>abstract</th>\n",
       "      <th>versions</th>\n",
       "      <th>update_date</th>\n",
       "      <th>authors_parsed</th>\n",
       "    </tr>\n",
       "  </thead>\n",
       "  <tbody>\n",
       "    <tr>\n",
       "      <th>0</th>\n",
       "      <td>0704.0001</td>\n",
       "      <td>Pavel Nadolsky</td>\n",
       "      <td>C. Bal\\'azs, E. L. Berger, P. M. Nadolsky, C.-...</td>\n",
       "      <td>Calculation of prompt diphoton production cros...</td>\n",
       "      <td>37 pages, 15 figures; published version</td>\n",
       "      <td>Phys.Rev.D76:013009,2007</td>\n",
       "      <td>10.1103/PhysRevD.76.013009</td>\n",
       "      <td>ANL-HEP-PR-07-12</td>\n",
       "      <td>hep-ph</td>\n",
       "      <td>None</td>\n",
       "      <td>A fully differential calculation in perturba...</td>\n",
       "      <td>[{'version': 'v1', 'created': 'Mon, 2 Apr 2007...</td>\n",
       "      <td>2008-11-26</td>\n",
       "      <td>[[Balázs, C., ], [Berger, E. L., ], [Nadolsky,...</td>\n",
       "    </tr>\n",
       "    <tr>\n",
       "      <th>1</th>\n",
       "      <td>0704.0002</td>\n",
       "      <td>Louis Theran</td>\n",
       "      <td>Ileana Streinu and Louis Theran</td>\n",
       "      <td>Sparsity-certifying Graph Decompositions</td>\n",
       "      <td>To appear in Graphs and Combinatorics</td>\n",
       "      <td>None</td>\n",
       "      <td>None</td>\n",
       "      <td>None</td>\n",
       "      <td>math.CO cs.CG</td>\n",
       "      <td>http://arxiv.org/licenses/nonexclusive-distrib...</td>\n",
       "      <td>We describe a new algorithm, the $(k,\\ell)$-...</td>\n",
       "      <td>[{'version': 'v1', 'created': 'Sat, 31 Mar 200...</td>\n",
       "      <td>2008-12-13</td>\n",
       "      <td>[[Streinu, Ileana, ], [Theran, Louis, ]]</td>\n",
       "    </tr>\n",
       "    <tr>\n",
       "      <th>2</th>\n",
       "      <td>0704.0003</td>\n",
       "      <td>Hongjun Pan</td>\n",
       "      <td>Hongjun Pan</td>\n",
       "      <td>The evolution of the Earth-Moon system based o...</td>\n",
       "      <td>23 pages, 3 figures</td>\n",
       "      <td>None</td>\n",
       "      <td>None</td>\n",
       "      <td>None</td>\n",
       "      <td>physics.gen-ph</td>\n",
       "      <td>None</td>\n",
       "      <td>The evolution of Earth-Moon system is descri...</td>\n",
       "      <td>[{'version': 'v1', 'created': 'Sun, 1 Apr 2007...</td>\n",
       "      <td>2008-01-13</td>\n",
       "      <td>[[Pan, Hongjun, ]]</td>\n",
       "    </tr>\n",
       "    <tr>\n",
       "      <th>3</th>\n",
       "      <td>0704.0004</td>\n",
       "      <td>David Callan</td>\n",
       "      <td>David Callan</td>\n",
       "      <td>A determinant of Stirling cycle numbers counts...</td>\n",
       "      <td>11 pages</td>\n",
       "      <td>None</td>\n",
       "      <td>None</td>\n",
       "      <td>None</td>\n",
       "      <td>math.CO</td>\n",
       "      <td>None</td>\n",
       "      <td>We show that a determinant of Stirling cycle...</td>\n",
       "      <td>[{'version': 'v1', 'created': 'Sat, 31 Mar 200...</td>\n",
       "      <td>2007-05-23</td>\n",
       "      <td>[[Callan, David, ]]</td>\n",
       "    </tr>\n",
       "    <tr>\n",
       "      <th>4</th>\n",
       "      <td>0704.0005</td>\n",
       "      <td>Alberto Torchinsky</td>\n",
       "      <td>Wael Abu-Shammala and Alberto Torchinsky</td>\n",
       "      <td>From dyadic $\\Lambda_{\\alpha}$ to $\\Lambda_{\\a...</td>\n",
       "      <td>None</td>\n",
       "      <td>Illinois J. Math. 52 (2008) no.2, 681-689</td>\n",
       "      <td>None</td>\n",
       "      <td>None</td>\n",
       "      <td>math.CA math.FA</td>\n",
       "      <td>None</td>\n",
       "      <td>In this paper we show how to compute the $\\L...</td>\n",
       "      <td>[{'version': 'v1', 'created': 'Mon, 2 Apr 2007...</td>\n",
       "      <td>2013-10-15</td>\n",
       "      <td>[[Abu-Shammala, Wael, ], [Torchinsky, Alberto, ]]</td>\n",
       "    </tr>\n",
       "  </tbody>\n",
       "</table>\n",
       "</div>"
      ],
      "text/plain": [
       "          id           submitter  \\\n",
       "0  0704.0001      Pavel Nadolsky   \n",
       "1  0704.0002        Louis Theran   \n",
       "2  0704.0003         Hongjun Pan   \n",
       "3  0704.0004        David Callan   \n",
       "4  0704.0005  Alberto Torchinsky   \n",
       "\n",
       "                                             authors  \\\n",
       "0  C. Bal\\'azs, E. L. Berger, P. M. Nadolsky, C.-...   \n",
       "1                    Ileana Streinu and Louis Theran   \n",
       "2                                        Hongjun Pan   \n",
       "3                                       David Callan   \n",
       "4           Wael Abu-Shammala and Alberto Torchinsky   \n",
       "\n",
       "                                               title  \\\n",
       "0  Calculation of prompt diphoton production cros...   \n",
       "1           Sparsity-certifying Graph Decompositions   \n",
       "2  The evolution of the Earth-Moon system based o...   \n",
       "3  A determinant of Stirling cycle numbers counts...   \n",
       "4  From dyadic $\\Lambda_{\\alpha}$ to $\\Lambda_{\\a...   \n",
       "\n",
       "                                  comments  \\\n",
       "0  37 pages, 15 figures; published version   \n",
       "1    To appear in Graphs and Combinatorics   \n",
       "2                      23 pages, 3 figures   \n",
       "3                                 11 pages   \n",
       "4                                     None   \n",
       "\n",
       "                                 journal-ref                         doi  \\\n",
       "0                   Phys.Rev.D76:013009,2007  10.1103/PhysRevD.76.013009   \n",
       "1                                       None                        None   \n",
       "2                                       None                        None   \n",
       "3                                       None                        None   \n",
       "4  Illinois J. Math. 52 (2008) no.2, 681-689                        None   \n",
       "\n",
       "          report-no       categories  \\\n",
       "0  ANL-HEP-PR-07-12           hep-ph   \n",
       "1              None    math.CO cs.CG   \n",
       "2              None   physics.gen-ph   \n",
       "3              None          math.CO   \n",
       "4              None  math.CA math.FA   \n",
       "\n",
       "                                             license  \\\n",
       "0                                               None   \n",
       "1  http://arxiv.org/licenses/nonexclusive-distrib...   \n",
       "2                                               None   \n",
       "3                                               None   \n",
       "4                                               None   \n",
       "\n",
       "                                            abstract  \\\n",
       "0    A fully differential calculation in perturba...   \n",
       "1    We describe a new algorithm, the $(k,\\ell)$-...   \n",
       "2    The evolution of Earth-Moon system is descri...   \n",
       "3    We show that a determinant of Stirling cycle...   \n",
       "4    In this paper we show how to compute the $\\L...   \n",
       "\n",
       "                                            versions update_date  \\\n",
       "0  [{'version': 'v1', 'created': 'Mon, 2 Apr 2007...  2008-11-26   \n",
       "1  [{'version': 'v1', 'created': 'Sat, 31 Mar 200...  2008-12-13   \n",
       "2  [{'version': 'v1', 'created': 'Sun, 1 Apr 2007...  2008-01-13   \n",
       "3  [{'version': 'v1', 'created': 'Sat, 31 Mar 200...  2007-05-23   \n",
       "4  [{'version': 'v1', 'created': 'Mon, 2 Apr 2007...  2013-10-15   \n",
       "\n",
       "                                      authors_parsed  \n",
       "0  [[Balázs, C., ], [Berger, E. L., ], [Nadolsky,...  \n",
       "1           [[Streinu, Ileana, ], [Theran, Louis, ]]  \n",
       "2                                 [[Pan, Hongjun, ]]  \n",
       "3                                [[Callan, David, ]]  \n",
       "4  [[Abu-Shammala, Wael, ], [Torchinsky, Alberto, ]]  "
      ]
     },
     "execution_count": 6,
     "metadata": {},
     "output_type": "execute_result"
    }
   ],
   "source": [
    "df.head(5)"
   ]
  },
  {
   "cell_type": "code",
   "execution_count": 5,
   "id": "9657f7c1-0ccf-44b2-b46f-5d6718ff81bf",
   "metadata": {},
   "outputs": [
    {
     "name": "stdout",
     "output_type": "stream",
     "text": [
      "10000\n",
      "50000\n",
      "200000\n",
      "500000\n",
      "1000000\n",
      "1500000\n"
     ]
    }
   ],
   "source": [
    "# To get the list of all categories\n",
    "\n",
    "cats = []\n",
    "for i in range(len(df)):\n",
    "    if df['categories'][i] not in cats:\n",
    "        cats.append(df['categories'][i])\n",
    "        \n",
    "new_cats = []\n",
    "all_cats = list(set(cats))\n",
    "for i in range(len(all_cats)):\n",
    "    splitted = all_cats[i].split(\" \")\n",
    "    for j in range(len(splitted)):\n",
    "        if splitted[j] not in new_cats:\n",
    "            new_cats.append(splitted[j])"
   ]
  },
  {
   "cell_type": "code",
   "execution_count": 7,
   "id": "3f5bcc8f-6dc0-43ed-9e6f-522a714570c6",
   "metadata": {},
   "outputs": [
    {
     "name": "stdout",
     "output_type": "stream",
     "text": [
      "176\n",
      "['physics.comp-ph', 'math.NA', 'stat.CO', 'eess.SY', 'cs.AI', 'cs.LG', 'cs.SY', 'stat.ME', 'nlin.CD', 'nlin.AO', 'physics.bio-ph', 'astro-ph.SR', 'physics.data-an', 'physics.space-ph', 'eess.SP', 'cs.IT', 'math.IT', 'cs.HC', 'cs.NI', 'cs.SI', 'q-bio.BM', 'cs.GR', 'hep-th', 'astro-ph.CO', 'cond-mat.supr-con', 'hep-ph', 'math-ph', 'math.MP', 'cs.MA', 'cs.RO', 'quant-ph', 'nlin.SI', 'solv-int', 'cond-mat.str-el', 'cond-mat.mes-hall', 'cond-mat.mtrl-sci', 'cs.CV', 'cs.CG', 'cs.SC', 'physics.chem-ph', 'physics.plasm-ph', 'math.CO', 'cs.DM', 'cs.DS', 'math.PR', 'stat.ML', 'hep-lat', 'cs.CL', 'cs.FL', 'cs.CR', 'cs.CY', 'cs.NE', 'cs.DC', 'physics.flu-dyn', 'math.OC', 'math.CA', 'math.AP', 'math.CV', 'math.FA', 'eess.IV', 'physics.med-ph', 'q-bio.GN', 'math.AC', 'astro-ph', 'physics.class-ph', 'physics.geo-ph', 'astro-ph.IM', 'stat.AP', 'math.DS', 'q-bio.PE', 'q-bio.QM', 'cs.GT', 'math.DG', 'cs.ET', 'cs.CC', 'nlin.CG', 'cs.NA', 'math.GT', 'q-bio.MN', 'math.NT', 'q-fin.ST', 'cond-mat.stat-mech', 'gr-qc', 'physics.hist-ph', 'math.AT', 'math.KT', 'nucl-th', 'physics.atom-ph', 'hep-ex', 'physics.soc-ph', 'math.RA', 'math.LO', 'math.OA', 'cs.IR', 'physics.optics', 'math.ST', 'stat.TH', 'cond-mat.other', 'cond-mat.quant-gas', 'math.RT', 'math.CT', 'math.QA', 'nucl-ex', 'q-bio.CB', 'cs.SE', 'stat.OT', 'physics.ed-ph', 'math.SP', 'q-fin.GN', 'math.HO', 'q-fin.CP', 'q-bio.OT', 'math.AG', 'cond-mat.soft', 'cond-mat.dis-nn', 'cs.MS', 'cs.PF', 'q-fin.TR', 'q-bio.NC', 'math.GR', 'cond-mat', 'nlin.PS', 'astro-ph.EP', 'physics.atm-clus', 'math.GN', 'cs.CE', 'cs.LO', 'physics.ao-ph', 'cs.OS', 'astro-ph.GA', 'cs.AR', 'q-fin.PR', 'cs.SD', 'cs.MM', 'eess.AS', 'cs.PL', 'astro-ph.HE', 'math.MG', 'econ.GN', 'q-fin.EC', 'physics.ins-det', 'q-bio.TO', 'physics.gen-ph', 'physics.pop-ph', 'math.SG', 'physics.app-ph', 'cs.DB', 'chao-dyn', 'comp-gas', 'patt-sol', 'physics.acc-ph', 'q-fin.MF', 'econ.EM', 'funct-an', 'q-fin.PM', 'econ.TH', 'adap-org', 'q-fin.RM', 'cs.GL', 'q-alg', 'q-bio.SC', 'math.GM', 'q-bio', 'cs.DL', 'cs.OH', 'bayes-an', 'plasm-ph', 'chem-ph', 'atom-ph', 'mtrl-th', 'alg-geom', 'dg-ga', 'acc-phys', 'supr-con', 'cmp-lg', 'ao-sci']\n"
     ]
    }
   ],
   "source": [
    "print(len(new_cats))\n",
    "print(new_cats)"
   ]
  },
  {
   "cell_type": "code",
   "execution_count": 8,
   "id": "c4444130-018a-4104-93cb-f7978527cd39",
   "metadata": {},
   "outputs": [
    {
     "name": "stdout",
     "output_type": "stream",
     "text": [
      "{'physics.comp-ph': 0, 'math.NA': 0, 'stat.CO': 0, 'eess.SY': 0, 'cs.AI': 0, 'cs.LG': 0, 'cs.SY': 0, 'stat.ME': 0, 'nlin.CD': 0, 'nlin.AO': 0, 'physics.bio-ph': 0, 'astro-ph.SR': 0, 'physics.data-an': 0, 'physics.space-ph': 0, 'eess.SP': 0, 'cs.IT': 0, 'math.IT': 0, 'cs.HC': 0, 'cs.NI': 0, 'cs.SI': 0, 'q-bio.BM': 0, 'cs.GR': 0, 'hep-th': 0, 'astro-ph.CO': 0, 'cond-mat.supr-con': 0, 'hep-ph': 0, 'math-ph': 0, 'math.MP': 0, 'cs.MA': 0, 'cs.RO': 0, 'quant-ph': 0, 'nlin.SI': 0, 'solv-int': 0, 'cond-mat.str-el': 0, 'cond-mat.mes-hall': 0, 'cond-mat.mtrl-sci': 0, 'cs.CV': 0, 'cs.CG': 0, 'cs.SC': 0, 'physics.chem-ph': 0, 'physics.plasm-ph': 0, 'math.CO': 0, 'cs.DM': 0, 'cs.DS': 0, 'math.PR': 0, 'stat.ML': 0, 'hep-lat': 0, 'cs.CL': 0, 'cs.FL': 0, 'cs.CR': 0, 'cs.CY': 0, 'cs.NE': 0, 'cs.DC': 0, 'physics.flu-dyn': 0, 'math.OC': 0, 'math.CA': 0, 'math.AP': 0, 'math.CV': 0, 'math.FA': 0, 'eess.IV': 0, 'physics.med-ph': 0, 'q-bio.GN': 0, 'math.AC': 0, 'astro-ph': 0, 'physics.class-ph': 0, 'physics.geo-ph': 0, 'astro-ph.IM': 0, 'stat.AP': 0, 'math.DS': 0, 'q-bio.PE': 0, 'q-bio.QM': 0, 'cs.GT': 0, 'math.DG': 0, 'cs.ET': 0, 'cs.CC': 0, 'nlin.CG': 0, 'cs.NA': 0, 'math.GT': 0, 'q-bio.MN': 0, 'math.NT': 0, 'q-fin.ST': 0, 'cond-mat.stat-mech': 0, 'gr-qc': 0, 'physics.hist-ph': 0, 'math.AT': 0, 'math.KT': 0, 'nucl-th': 0, 'physics.atom-ph': 0, 'hep-ex': 0, 'physics.soc-ph': 0, 'math.RA': 0, 'math.LO': 0, 'math.OA': 0, 'cs.IR': 0, 'physics.optics': 0, 'math.ST': 0, 'stat.TH': 0, 'cond-mat.other': 0, 'cond-mat.quant-gas': 0, 'math.RT': 0, 'math.CT': 0, 'math.QA': 0, 'nucl-ex': 0, 'q-bio.CB': 0, 'cs.SE': 0, 'stat.OT': 0, 'physics.ed-ph': 0, 'math.SP': 0, 'q-fin.GN': 0, 'math.HO': 0, 'q-fin.CP': 0, 'q-bio.OT': 0, 'math.AG': 0, 'cond-mat.soft': 0, 'cond-mat.dis-nn': 0, 'cs.MS': 0, 'cs.PF': 0, 'q-fin.TR': 0, 'q-bio.NC': 0, 'math.GR': 0, 'cond-mat': 0, 'nlin.PS': 0, 'astro-ph.EP': 0, 'physics.atm-clus': 0, 'math.GN': 0, 'cs.CE': 0, 'cs.LO': 0, 'physics.ao-ph': 0, 'cs.OS': 0, 'astro-ph.GA': 0, 'cs.AR': 0, 'q-fin.PR': 0, 'cs.SD': 0, 'cs.MM': 0, 'eess.AS': 0, 'cs.PL': 0, 'astro-ph.HE': 0, 'math.MG': 0, 'econ.GN': 0, 'q-fin.EC': 0, 'physics.ins-det': 0, 'q-bio.TO': 0, 'physics.gen-ph': 0, 'physics.pop-ph': 0, 'math.SG': 0, 'physics.app-ph': 0, 'cs.DB': 0, 'chao-dyn': 0, 'comp-gas': 0, 'patt-sol': 0, 'physics.acc-ph': 0, 'q-fin.MF': 0, 'econ.EM': 0, 'funct-an': 0, 'q-fin.PM': 0, 'econ.TH': 0, 'adap-org': 0, 'q-fin.RM': 0, 'cs.GL': 0, 'q-alg': 0, 'q-bio.SC': 0, 'math.GM': 0, 'q-bio': 0, 'cs.DL': 0, 'cs.OH': 0, 'bayes-an': 0, 'plasm-ph': 0, 'chem-ph': 0, 'atom-ph': 0, 'mtrl-th': 0, 'alg-geom': 0, 'dg-ga': 0, 'acc-phys': 0, 'supr-con': 0, 'cmp-lg': 0, 'ao-sci': 0}\n"
     ]
    }
   ],
   "source": [
    "# To count the number of papers of each category\n",
    "\n",
    "new_cats_dict = {}\n",
    "for i in range(len(new_cats)):\n",
    "    new_cats_dict[new_cats[i]] = 0\n",
    "\n",
    "for i in range(len(df)):\n",
    "    splitted = df['categories'][i].split()\n",
    "    new_cats_dict[splitted[0]] += 1\n"
   ]
  },
  {
   "cell_type": "code",
   "execution_count": 10,
   "id": "ef28124c-ef3f-41bf-9de8-3e68d68b5a3a",
   "metadata": {},
   "outputs": [
    {
     "name": "stdout",
     "output_type": "stream",
     "text": [
      "{'math.NA': 32024, 'cs.LG': 133001, 'cs.NA': 18040, 'cs.DS': 21137, 'physics.data-an': 9434, 'physics.comp-ph': 19920, 'physics.geo-ph': 6202, 'cs.OS': 753, 'cs.DC': 17961, 'cs.NI': 19296, 'cs.PF': 3346, 'physics.chem-ph': 19234, 'astro-ph.EP': 25527, 'astro-ph.IM': 25313, 'physics.optics': 40663, 'cs.SE': 12685, 'eess.SP': 21009, 'physics.bio-ph': 13800, 'cs.NE': 12166, 'nlin.AO': 6577, 'q-bio': 1356, 'cs.CV': 90534, 'nlin.CG': 1420, 'math.PR': 50630, 'physics.soc-ph': 20040, 'stat.ML': 58257, 'q-fin.PM': 1593, 'cond-mat.dis-nn': 21884, 'math.OC': 40749, 'q-fin.RM': 1991, 'math.RT': 23729, 'math.AP': 54861, 'math.MG': 10086, 'math.SP': 8849, 'hep-ph': 170301, 'astro-ph.GA': 56457, 'astro-ph.HE': 50768, 'astro-ph.SR': 54554, 'gr-qc': 98696, 'hep-th': 156801, 'math.GT': 20918, 'math.QA': 17838, 'alg-geom': 1423, 'dg-ga': 732, 'math.AG': 48175, 'math.DG': 38608, 'cs.AI': 59217, 'cs.RO': 22971, 'cs.IR': 13257, 'cs.CE': 5560, 'physics.med-ph': 5795, 'math-ph': 73274, 'math.MP': 73274, 'physics.acc-ph': 7107, 'cs.HC': 12151, 'cs.CR': 25791, 'cs.GR': 4416, 'econ.EM': 2789, 'cs.SI': 17212, 'math.RA': 15770, 'math.CO': 58793, 'cond-mat.stat-mech': 68356, 'cs.SY': 24629, 'eess.SY': 16187, 'physics.flu-dyn': 24278, 'cond-mat.quant-gas': 19202, 'nlin.SI': 11219, 'cond-mat.soft': 36560, 'quant-ph': 132497, 'math.DS': 32688, 'math.ST': 20338, 'stat.TH': 20338, 'cs.CY': 14336, 'cs.DL': 4285, 'q-fin.EC': 3507, 'stat.CO': 7161, 'cs.CL': 42466, 'stat.AP': 15778, 'cond-mat.other': 14963, 'physics.ed-ph': 3441, 'nucl-th': 53772, 'nucl-ex': 24088, 'hep-ex': 49834, 'hep-lat': 26507, 'cond-mat.mtrl-sci': 82851, 'cond-mat.mes-hall': 82893, 'physics.atm-clus': 2560, 'cs.IT': 41844, 'math.IT': 41844, 'q-bio.GN': 2807, 'cond-mat.str-el': 68049, 'cs.MM': 4867, 'cs.MA': 6080, 'cs.CG': 6085, 'q-bio.OT': 1131, 'physics.atom-ph': 19348, 'astro-ph': 105380, 'physics.space-ph': 5602, 'cond-mat': 14215, 'nlin.PS': 9019, 'patt-sol': 650, 'physics.ins-det': 18985, 'physics.plasm-ph': 14690, 'math.FA': 28085, 'math.CT': 7538, 'math.OA': 11666, 'q-bio.NC': 8213, 'stat.OT': 1147, 'math.GN': 4663, 'q-fin.CP': 2036, 'q-bio.QM': 8933, 'q-bio.MN': 3467, 'adap-org': 584, 'cs.DM': 11918, 'cs.GT': 9653, 'eess.IV': 17266, 'econ.TH': 1775, 'q-bio.CB': 1997, 'math.KT': 5437, 'math.GR': 20093, 'physics.app-ph': 14613, 'cond-mat.supr-con': 40444, 'math.NT': 37607, 'nlin.CD': 14829, 'cs.LO': 14121, 'math.LO': 11831, 'q-bio.TO': 2005, 'math.AT': 14147, 'astro-ph.CO': 61647, 'physics.class-ph': 7928, 'stat.ME': 22213, 'cs.SC': 2246, 'cs.CC': 9631, 'math.CA': 20389, 'q-bio.PE': 10425, 'cs.MS': 1987, 'cs.PL': 6708, 'q-fin.ST': 3180, 'physics.ao-ph': 5501, 'cs.DB': 7401, 'cs.SD': 10341, 'eess.AS': 10426, 'math.CV': 15549, 'q-bio.BM': 4830, 'math.AC': 11719, 'math.SG': 8368, 'cs.GL': 203, 'cs.ET': 3256, 'q-fin.TR': 1541, 'physics.pop-ph': 2232, 'math.HO': 3257, 'cs.FL': 4348, 'supr-con': 175, 'comp-gas': 221, 'funct-an': 427, 'cs.AR': 3632, 'q-fin.GN': 2452, 'solv-int': 1413, 'q-bio.SC': 1607, 'q-fin.MF': 2159, 'ao-sci': 17, 'econ.GN': 2941, 'chao-dyn': 2398, 'q-fin.PR': 1835, 'physics.gen-ph': 9992, 'physics.hist-ph': 4491, 'cs.OH': 2135, 'math.GM': 3580, 'mtrl-th': 262, 'q-alg': 1578, 'chem-ph': 251, 'acc-phys': 49, 'atom-ph': 123, 'cmp-lg': 894, 'plasm-ph': 38, 'bayes-an': 16}\n"
     ]
    }
   ],
   "source": [
    "print(new_cats_dict)"
   ]
  },
  {
   "cell_type": "code",
   "execution_count": 10,
   "id": "95a19d28-eb19-4154-83bd-fa4519c8f294",
   "metadata": {},
   "outputs": [],
   "source": [
    "new_cats_df = pd.DataFrame.from_dict(new_cats_dict, orient='index')\n",
    "new_cats_df.columns = [\"Freq\"]"
   ]
  },
  {
   "cell_type": "code",
   "execution_count": 11,
   "id": "89f85264-bd7a-41e2-944e-ff17c5fea9e6",
   "metadata": {},
   "outputs": [
    {
     "data": {
      "text/html": [
       "<div>\n",
       "<style scoped>\n",
       "    .dataframe tbody tr th:only-of-type {\n",
       "        vertical-align: middle;\n",
       "    }\n",
       "\n",
       "    .dataframe tbody tr th {\n",
       "        vertical-align: top;\n",
       "    }\n",
       "\n",
       "    .dataframe thead th {\n",
       "        text-align: right;\n",
       "    }\n",
       "</style>\n",
       "<table border=\"1\" class=\"dataframe\">\n",
       "  <thead>\n",
       "    <tr style=\"text-align: right;\">\n",
       "      <th></th>\n",
       "      <th>Freq</th>\n",
       "    </tr>\n",
       "  </thead>\n",
       "  <tbody>\n",
       "    <tr>\n",
       "      <th>physics.comp-ph</th>\n",
       "      <td>6951</td>\n",
       "    </tr>\n",
       "    <tr>\n",
       "      <th>math.NA</th>\n",
       "      <td>23816</td>\n",
       "    </tr>\n",
       "    <tr>\n",
       "      <th>stat.CO</th>\n",
       "      <td>3251</td>\n",
       "    </tr>\n",
       "    <tr>\n",
       "      <th>eess.SY</th>\n",
       "      <td>9180</td>\n",
       "    </tr>\n",
       "    <tr>\n",
       "      <th>cs.AI</th>\n",
       "      <td>16677</td>\n",
       "    </tr>\n",
       "  </tbody>\n",
       "</table>\n",
       "</div>"
      ],
      "text/plain": [
       "                  Freq\n",
       "physics.comp-ph   6951\n",
       "math.NA          23816\n",
       "stat.CO           3251\n",
       "eess.SY           9180\n",
       "cs.AI            16677"
      ]
     },
     "execution_count": 11,
     "metadata": {},
     "output_type": "execute_result"
    }
   ],
   "source": [
    "new_cats_df.head(5)"
   ]
  },
  {
   "cell_type": "code",
   "execution_count": 12,
   "id": "e5d8c283-3d9f-4212-bc4e-6499e47d5943",
   "metadata": {},
   "outputs": [],
   "source": [
    "new_cats_df = new_cats_df.sort_values(by='Freq', ascending=False)"
   ]
  },
  {
   "cell_type": "code",
   "execution_count": 13,
   "id": "63196ee0-a06a-473a-899c-1eb0f66cd38f",
   "metadata": {},
   "outputs": [],
   "source": [
    "new_cats_df.to_csv(\"main_categories.csv\")"
   ]
  },
  {
   "cell_type": "code",
   "execution_count": null,
   "id": "936e9c96-6250-4ace-934f-8aae250757d0",
   "metadata": {},
   "outputs": [],
   "source": []
  },
  {
   "cell_type": "code",
   "execution_count": null,
   "id": "6d584fc2-913c-45a0-8505-06e9cf39a54c",
   "metadata": {},
   "outputs": [],
   "source": []
  },
  {
   "cell_type": "code",
   "execution_count": null,
   "id": "f8594510-2e47-44e5-9354-787cf0f95c1c",
   "metadata": {},
   "outputs": [],
   "source": []
  },
  {
   "cell_type": "code",
   "execution_count": 34,
   "id": "78bc7e7c-cc18-4e18-8387-21ce1bfba99b",
   "metadata": {},
   "outputs": [
    {
     "name": "stdout",
     "output_type": "stream",
     "text": [
      "10000\n",
      "50000\n",
      "200000\n",
      "500000\n",
      "1000000\n",
      "1500000\n",
      "2000000\n"
     ]
    }
   ],
   "source": [
    "# To filter the selected categories and create the a large dataset of all papers of these categories\n",
    "\n",
    "my_indices = []\n",
    "my_cats = ['cs.CR', 'eess.SP', 'stat.ME', 'gr-qc', 'physics.optics']\n",
    "for i in range(len(df)):\n",
    "    splitted = df['categories'][i].split(\" \")\n",
    "    if splitted[0] in my_cats:\n",
    "        my_indices.append(i)\n",
    "        \n",
    "selected_rows = df.loc[my_indices]\n",
    "selected_rows = selected_rows.reset_index(drop=True)\n",
    "selected_rows.to_csv('selected_papers_for_exp.csv')"
   ]
  },
  {
   "cell_type": "code",
   "execution_count": 36,
   "id": "5168a195-c59b-4a51-a68e-bde4425bcafe",
   "metadata": {},
   "outputs": [],
   "source": []
  },
  {
   "cell_type": "code",
   "execution_count": 37,
   "id": "2ce6dd43-2fe3-44dc-b5b7-84def79b04aa",
   "metadata": {},
   "outputs": [],
   "source": []
  },
  {
   "cell_type": "code",
   "execution_count": null,
   "id": "5b9a9da2-6923-4016-8e75-cc7bea2d9477",
   "metadata": {},
   "outputs": [],
   "source": [
    "df = pd.read_csv('selected_papers_for_exp.csv')"
   ]
  },
  {
   "cell_type": "code",
   "execution_count": null,
   "id": "0adec898-b64f-459e-87d8-d31529c1664b",
   "metadata": {},
   "outputs": [],
   "source": [
    "def filter_func(abstract):\n",
    "    \n",
    "    length = len(tokenizer(abstract).input_ids)\n",
    "    \n",
    "    if length > 170 and length < 1023:\n",
    "        return True\n",
    "    else:\n",
    "        return False"
   ]
  },
  {
   "cell_type": "code",
   "execution_count": 7,
   "id": "f928015f-4fea-42bb-a374-6930271b9b5b",
   "metadata": {},
   "outputs": [],
   "source": [
    "def filter_func2(categories, target_category):\n",
    "    if categories.split(\" \")[0] == target_category:\n",
    "        return True\n",
    "    else:\n",
    "        return False"
   ]
  },
  {
   "cell_type": "code",
   "execution_count": null,
   "id": "f0d18838-2494-49dc-92e8-de813a763106",
   "metadata": {},
   "outputs": [],
   "source": [
    "# Create datasets with different sizes\n",
    "\n",
    "my_cats = ['cs.CR', 'eess.SP', 'stat.ME', 'gr-qc', 'physics.optics']\n",
    "for i in range(len(my_cats)):\n",
    "    if i == 0:\n",
    "        filtered_df = df.loc[df['categories'].apply(lambda x: filter_func2(x, my_cats[i]))]\n",
    "        filtered_df = filtered_df.drop('Unnamed: 0', axis=1)\n",
    "        filtered_df = filtered_df.reset_index(drop=True)\n",
    "        filtered_df = filtered_df.loc[filtered_df['abstract'].apply(lambda x: filter_func(x))]\n",
    "        filtered_df = filtered_df.reset_index(drop=True)\n",
    "        filtered_df = filtered_df.sample(n=1000)\n",
    "        filtered_df = filtered_df.reset_index(drop=True)\n",
    "        final_dataframe = filtered_df[['abstract']]\n",
    "        final_dataframe = final_dataframe.applymap(lambda x: '<' + my_cats[i] + '>: ' + str(x))\n",
    "    else:\n",
    "        filtered_df = df.loc[df['categories'].apply(lambda x: filter_func2(x, my_cats[i]))]\n",
    "        filtered_df = filtered_df.drop('Unnamed: 0', axis=1)\n",
    "        filtered_df = filtered_df.reset_index(drop=True)\n",
    "        filtered_df = filtered_df.loc[filtered_df['abstract'].apply(lambda x: filter_func(x))]\n",
    "        filtered_df = filtered_df.reset_index(drop=True)\n",
    "        filtered_df = filtered_df.sample(n=1000)\n",
    "        filtered_df = filtered_df.reset_index(drop=True)\n",
    "        temp_dataframe = filtered_df[['abstract']]\n",
    "        temp_dataframe = temp_dataframe.applymap(lambda x: '<' + my_cats[i] + '>: ' + str(x))\n",
    "        frames = [final_dataframe, temp_dataframe]\n",
    "        final_dataframe = pd.concat(frames, ignore_index=True)"
   ]
  },
  {
   "cell_type": "code",
   "execution_count": 25,
   "id": "f5ef13c9-579d-4db0-9ede-77f7ffb9fa3c",
   "metadata": {},
   "outputs": [
    {
     "data": {
      "text/html": [
       "<div>\n",
       "<style scoped>\n",
       "    .dataframe tbody tr th:only-of-type {\n",
       "        vertical-align: middle;\n",
       "    }\n",
       "\n",
       "    .dataframe tbody tr th {\n",
       "        vertical-align: top;\n",
       "    }\n",
       "\n",
       "    .dataframe thead th {\n",
       "        text-align: right;\n",
       "    }\n",
       "</style>\n",
       "<table border=\"1\" class=\"dataframe\">\n",
       "  <thead>\n",
       "    <tr style=\"text-align: right;\">\n",
       "      <th></th>\n",
       "      <th>abstract</th>\n",
       "    </tr>\n",
       "  </thead>\n",
       "  <tbody>\n",
       "    <tr>\n",
       "      <th>0</th>\n",
       "      <td>&lt;cs.CR&gt;:   The world has been experiencing a m...</td>\n",
       "    </tr>\n",
       "    <tr>\n",
       "      <th>1</th>\n",
       "      <td>&lt;cs.CR&gt;:   We explore the additional security ...</td>\n",
       "    </tr>\n",
       "    <tr>\n",
       "      <th>2</th>\n",
       "      <td>&lt;cs.CR&gt;:   Machine learning (ML) has become a ...</td>\n",
       "    </tr>\n",
       "    <tr>\n",
       "      <th>3</th>\n",
       "      <td>&lt;cs.CR&gt;:   The smart grid incentivizes distrib...</td>\n",
       "    </tr>\n",
       "    <tr>\n",
       "      <th>4</th>\n",
       "      <td>&lt;cs.CR&gt;:   A physical unclonable function (PUF...</td>\n",
       "    </tr>\n",
       "  </tbody>\n",
       "</table>\n",
       "</div>"
      ],
      "text/plain": [
       "                                            abstract\n",
       "0  <cs.CR>:   The world has been experiencing a m...\n",
       "1  <cs.CR>:   We explore the additional security ...\n",
       "2  <cs.CR>:   Machine learning (ML) has become a ...\n",
       "3  <cs.CR>:   The smart grid incentivizes distrib...\n",
       "4  <cs.CR>:   A physical unclonable function (PUF..."
      ]
     },
     "execution_count": 25,
     "metadata": {},
     "output_type": "execute_result"
    }
   ],
   "source": [
    "final_dataframe.head(5)"
   ]
  },
  {
   "cell_type": "code",
   "execution_count": 28,
   "id": "8c5a0065-2963-4555-92fa-08048fcc8038",
   "metadata": {},
   "outputs": [
    {
     "name": "stdout",
     "output_type": "stream",
     "text": [
      "5000\n"
     ]
    }
   ],
   "source": [
    "print(len(final_dataframe))"
   ]
  },
  {
   "cell_type": "code",
   "execution_count": 27,
   "id": "8b5b8ca5-d80a-4f98-9616-141b620dcb63",
   "metadata": {},
   "outputs": [
    {
     "data": {
      "text/html": [
       "<div>\n",
       "<style scoped>\n",
       "    .dataframe tbody tr th:only-of-type {\n",
       "        vertical-align: middle;\n",
       "    }\n",
       "\n",
       "    .dataframe tbody tr th {\n",
       "        vertical-align: top;\n",
       "    }\n",
       "\n",
       "    .dataframe thead th {\n",
       "        text-align: right;\n",
       "    }\n",
       "</style>\n",
       "<table border=\"1\" class=\"dataframe\">\n",
       "  <thead>\n",
       "    <tr style=\"text-align: right;\">\n",
       "      <th></th>\n",
       "      <th>text</th>\n",
       "    </tr>\n",
       "  </thead>\n",
       "  <tbody>\n",
       "    <tr>\n",
       "      <th>0</th>\n",
       "      <td>&lt;cs.CR&gt;:   The world has been experiencing a m...</td>\n",
       "    </tr>\n",
       "    <tr>\n",
       "      <th>1</th>\n",
       "      <td>&lt;cs.CR&gt;:   We explore the additional security ...</td>\n",
       "    </tr>\n",
       "    <tr>\n",
       "      <th>2</th>\n",
       "      <td>&lt;cs.CR&gt;:   Machine learning (ML) has become a ...</td>\n",
       "    </tr>\n",
       "    <tr>\n",
       "      <th>3</th>\n",
       "      <td>&lt;cs.CR&gt;:   The smart grid incentivizes distrib...</td>\n",
       "    </tr>\n",
       "  </tbody>\n",
       "</table>\n",
       "</div>"
      ],
      "text/plain": [
       "                                                text\n",
       "0  <cs.CR>:   The world has been experiencing a m...\n",
       "1  <cs.CR>:   We explore the additional security ...\n",
       "2  <cs.CR>:   Machine learning (ML) has become a ...\n",
       "3  <cs.CR>:   The smart grid incentivizes distrib..."
      ]
     },
     "execution_count": 27,
     "metadata": {},
     "output_type": "execute_result"
    }
   ],
   "source": [
    "final_dataframe.columns = ['text']\n",
    "final_dataframe.head(4)"
   ]
  },
  {
   "cell_type": "code",
   "execution_count": 30,
   "id": "48cc278e-cd78-40bd-b0f1-9f340c5bd0f0",
   "metadata": {},
   "outputs": [
    {
     "name": "stdout",
     "output_type": "stream",
     "text": [
      "(5000, 1)\n"
     ]
    }
   ],
   "source": [
    "print(final_dataframe.shape)"
   ]
  },
  {
   "cell_type": "code",
   "execution_count": 31,
   "id": "b6c78615-8c68-4a86-be45-8b36b4ae4379",
   "metadata": {},
   "outputs": [],
   "source": [
    "final_dataframe.to_csv('equal_dataset_5000.csv')"
   ]
  },
  {
   "cell_type": "code",
   "execution_count": null,
   "id": "55626143-dfea-442c-9393-8e6370c9d895",
   "metadata": {},
   "outputs": [],
   "source": []
  }
 ],
 "metadata": {
  "kernelspec": {
   "display_name": "Python (anaconda3-test)",
   "language": "python",
   "name": "conda-env-anaconda3-test-py"
  },
  "language_info": {
   "codemirror_mode": {
    "name": "ipython",
    "version": 3
   },
   "file_extension": ".py",
   "mimetype": "text/x-python",
   "name": "python",
   "nbconvert_exporter": "python",
   "pygments_lexer": "ipython3",
   "version": "3.10.4"
  }
 },
 "nbformat": 4,
 "nbformat_minor": 5
}
