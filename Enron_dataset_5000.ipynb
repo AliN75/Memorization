{
 "cells": [
  {
   "cell_type": "code",
   "execution_count": 35,
   "id": "7fc930cb-d669-499f-a264-02b50c8aa32e",
   "metadata": {},
   "outputs": [],
   "source": [
    "import pandas as pd\n",
    "import email"
   ]
  },
  {
   "cell_type": "code",
   "execution_count": 5,
   "id": "33e5362e-b21c-48f1-a91d-5df8cd8af2a9",
   "metadata": {},
   "outputs": [],
   "source": [
    "data_path = '/home/vaishnavi/cs685/data/emails.csv'"
   ]
  },
  {
   "cell_type": "code",
   "execution_count": 7,
   "id": "c28aaed5-ff96-45d3-879f-0ac5a9877a4f",
   "metadata": {},
   "outputs": [],
   "source": [
    "df = pd.read_csv(data_path)"
   ]
  },
  {
   "cell_type": "code",
   "execution_count": 48,
   "id": "ac3946ac-ac51-47b0-b7c7-2726969d2eb1",
   "metadata": {},
   "outputs": [],
   "source": [
    "cats = df['file'].tolist()"
   ]
  },
  {
   "cell_type": "code",
   "execution_count": 49,
   "id": "b6c85e78-9cd4-4920-baf7-5b020175db86",
   "metadata": {},
   "outputs": [],
   "source": [
    "cats = [x.split('/')[0] for x in cats]"
   ]
  },
  {
   "cell_type": "code",
   "execution_count": 50,
   "id": "a1d5748f-f184-41fd-a129-0d38f1ca30a6",
   "metadata": {},
   "outputs": [
    {
     "data": {
      "text/plain": [
       "150"
      ]
     },
     "execution_count": 50,
     "metadata": {},
     "output_type": "execute_result"
    }
   ],
   "source": [
    "len(set(cats))"
   ]
  },
  {
   "cell_type": "code",
   "execution_count": 37,
   "id": "ee324bde-e342-47a1-a3c9-658c74e58248",
   "metadata": {},
   "outputs": [],
   "source": [
    "def body(messages):\n",
    "    column = []\n",
    "    for message in messages:\n",
    "        e = email.message_from_string(message)\n",
    "        column.append(e.get_payload())\n",
    "    return column"
   ]
  },
  {
   "cell_type": "code",
   "execution_count": 44,
   "id": "f27f3fe3-ca0d-407e-be7f-3632eeeeb9c4",
   "metadata": {},
   "outputs": [],
   "source": [
    "msgs = body(df['message'])"
   ]
  },
  {
   "cell_type": "code",
   "execution_count": 51,
   "id": "a7441dfc-dcb2-4161-a5d3-0e1da00a1c93",
   "metadata": {},
   "outputs": [],
   "source": [
    "df_final = pd.DataFrame({'emp': cats, 'msg': msgs})"
   ]
  },
  {
   "cell_type": "code",
   "execution_count": 52,
   "id": "293c562a-2378-43d4-8791-1f48eb2c31c0",
   "metadata": {},
   "outputs": [
    {
     "data": {
      "text/html": [
       "<div>\n",
       "<style scoped>\n",
       "    .dataframe tbody tr th:only-of-type {\n",
       "        vertical-align: middle;\n",
       "    }\n",
       "\n",
       "    .dataframe tbody tr th {\n",
       "        vertical-align: top;\n",
       "    }\n",
       "\n",
       "    .dataframe thead th {\n",
       "        text-align: right;\n",
       "    }\n",
       "</style>\n",
       "<table border=\"1\" class=\"dataframe\">\n",
       "  <thead>\n",
       "    <tr style=\"text-align: right;\">\n",
       "      <th></th>\n",
       "      <th>emp</th>\n",
       "      <th>msg</th>\n",
       "    </tr>\n",
       "  </thead>\n",
       "  <tbody>\n",
       "    <tr>\n",
       "      <th>0</th>\n",
       "      <td>allen-p</td>\n",
       "      <td>Here is our forecast\\n\\n</td>\n",
       "    </tr>\n",
       "    <tr>\n",
       "      <th>1</th>\n",
       "      <td>allen-p</td>\n",
       "      <td>Traveling to have a business meeting takes the...</td>\n",
       "    </tr>\n",
       "    <tr>\n",
       "      <th>2</th>\n",
       "      <td>allen-p</td>\n",
       "      <td>test successful.  way to go!!!</td>\n",
       "    </tr>\n",
       "    <tr>\n",
       "      <th>3</th>\n",
       "      <td>allen-p</td>\n",
       "      <td>Randy,\\n\\n Can you send me a schedule of the s...</td>\n",
       "    </tr>\n",
       "    <tr>\n",
       "      <th>4</th>\n",
       "      <td>allen-p</td>\n",
       "      <td>Let's shoot for Tuesday at 11:45.</td>\n",
       "    </tr>\n",
       "    <tr>\n",
       "      <th>...</th>\n",
       "      <td>...</td>\n",
       "      <td>...</td>\n",
       "    </tr>\n",
       "    <tr>\n",
       "      <th>517396</th>\n",
       "      <td>zufferli-j</td>\n",
       "      <td>This is a trade with OIL-SPEC-HEDGE-NG (John L...</td>\n",
       "    </tr>\n",
       "    <tr>\n",
       "      <th>517397</th>\n",
       "      <td>zufferli-j</td>\n",
       "      <td>Some of my position is with the Alberta Term b...</td>\n",
       "    </tr>\n",
       "    <tr>\n",
       "      <th>517398</th>\n",
       "      <td>zufferli-j</td>\n",
       "      <td>2\\n\\n -----Original Message-----\\nFrom: \\tDouc...</td>\n",
       "    </tr>\n",
       "    <tr>\n",
       "      <th>517399</th>\n",
       "      <td>zufferli-j</td>\n",
       "      <td>Analyst\\t\\t\\t\\t\\tRank\\n\\nStephane Brodeur\\t\\t\\...</td>\n",
       "    </tr>\n",
       "    <tr>\n",
       "      <th>517400</th>\n",
       "      <td>zufferli-j</td>\n",
       "      <td>i think the YMCA has a class that is for peopl...</td>\n",
       "    </tr>\n",
       "  </tbody>\n",
       "</table>\n",
       "<p>517401 rows × 2 columns</p>\n",
       "</div>"
      ],
      "text/plain": [
       "               emp                                                msg\n",
       "0          allen-p                          Here is our forecast\\n\\n \n",
       "1          allen-p  Traveling to have a business meeting takes the...\n",
       "2          allen-p                     test successful.  way to go!!!\n",
       "3          allen-p  Randy,\\n\\n Can you send me a schedule of the s...\n",
       "4          allen-p                Let's shoot for Tuesday at 11:45.  \n",
       "...            ...                                                ...\n",
       "517396  zufferli-j  This is a trade with OIL-SPEC-HEDGE-NG (John L...\n",
       "517397  zufferli-j  Some of my position is with the Alberta Term b...\n",
       "517398  zufferli-j  2\\n\\n -----Original Message-----\\nFrom: \\tDouc...\n",
       "517399  zufferli-j  Analyst\\t\\t\\t\\t\\tRank\\n\\nStephane Brodeur\\t\\t\\...\n",
       "517400  zufferli-j  i think the YMCA has a class that is for peopl...\n",
       "\n",
       "[517401 rows x 2 columns]"
      ]
     },
     "execution_count": 52,
     "metadata": {},
     "output_type": "execute_result"
    }
   ],
   "source": [
    "df_final"
   ]
  },
  {
   "cell_type": "code",
   "execution_count": 23,
   "id": "91bb0457-ea39-4b7c-8dba-d0382108f485",
   "metadata": {},
   "outputs": [
    {
     "data": {
      "text/plain": [
       "\"Message-ID: <18782981.1075855378110.JavaMail.evans@thyme>\\nDate: Mon, 14 May 2001 16:39:00 -0700 (PDT)\\nFrom: phillip.allen@enron.com\\nTo: tim.belden@enron.com\\nSubject: \\nMime-Version: 1.0\\nContent-Type: text/plain; charset=us-ascii\\nContent-Transfer-Encoding: 7bit\\nX-From: Phillip K Allen\\nX-To: Tim Belden <Tim Belden/Enron@EnronXGate>\\nX-cc: \\nX-bcc: \\nX-Folder: \\\\Phillip_Allen_Jan2002_1\\\\Allen, Phillip K.\\\\'Sent Mail\\nX-Origin: Allen-P\\nX-FileName: pallen (Non-Privileged).pst\\n\\nHere is our forecast\\n\\n \""
      ]
     },
     "execution_count": 23,
     "metadata": {},
     "output_type": "execute_result"
    }
   ],
   "source": [
    "df['message'][0]"
   ]
  },
  {
   "cell_type": "code",
   "execution_count": 34,
   "id": "298af582-81f0-4b3e-870c-ffc73c9c1509",
   "metadata": {},
   "outputs": [
    {
     "data": {
      "text/plain": [
       "\"Message-ID: <15464986.1075855378456.JavaMail.evans@thyme>\\nDate: Fri, 4 May 2001 13:51:00 -0700 (PDT)\\nFrom: phillip.allen@enron.com\\nTo: john.lavorato@enron.com\\nSubject: Re:\\nMime-Version: 1.0\\nContent-Type: text/plain; charset=us-ascii\\nContent-Transfer-Encoding: 7bit\\nX-From: Phillip K Allen\\nX-To: John J Lavorato <John J Lavorato/ENRON@enronXgate@ENRON>\\nX-cc: \\nX-bcc: \\nX-Folder: \\\\Phillip_Allen_Jan2002_1\\\\Allen, Phillip K.\\\\'Sent Mail\\nX-Origin: Allen-P\\nX-FileName: pallen (Non-Privileged).pst\\n\\nTraveling to have a business meeting takes the fun out of the trip.  Especially if you have to prepare a presentation.  I would suggest holding the business plan meetings here then take a trip without any formal business meetings.  I would even try and get some honest opinions on whether a trip is even desired or necessary.\\n\\nAs far as the business meetings, I think it would be more productive to try and stimulate discussions across the different groups about what is working and what is not.  Too often the presenter speaks and the others are quiet just waiting for their turn.   The meetings might be better if held in a round table discussion format.  \\n\\nMy suggestion for where to go is Austin.  Play golf and rent a ski boat and jet ski's.  Flying somewhere takes too much time.\\n\""
      ]
     },
     "execution_count": 34,
     "metadata": {},
     "output_type": "execute_result"
    }
   ],
   "source": [
    "x = df['message'][1]\n",
    "x"
   ]
  },
  {
   "cell_type": "code",
   "execution_count": 28,
   "id": "ec9dae76-f264-43ca-a0b9-8b9ca9e39dda",
   "metadata": {},
   "outputs": [
    {
     "data": {
      "text/plain": [
       "\"Traveling to have a business meeting takes the fun out of the trip.  Especially if you have to prepare a presentation.  I would suggest holding the business plan meetings here then take a trip without any formal business meetings.  I would even try and get some honest opinions on whether a trip is even desired or necessary.\\n\\nAs far as the business meetings, I think it would be more productive to try and stimulate discussions across the different groups about what is working and what is not.  Too often the presenter speaks and the others are quiet just waiting for their turn.   The meetings might be better if held in a round table discussion format.  \\n\\nMy suggestion for where to go is Austin.  Play golf and rent a ski boat and jet ski's.  Flying somewhere takes too much time.\\n\""
      ]
     },
     "execution_count": 28,
     "metadata": {},
     "output_type": "execute_result"
    }
   ],
   "source": [
    "x.split('(Non-Privileged).pst\\n\\n')[1]"
   ]
  },
  {
   "cell_type": "code",
   "execution_count": 53,
   "id": "182a5c5f-9594-406d-aeec-204090775b65",
   "metadata": {},
   "outputs": [
    {
     "data": {
      "text/html": [
       "<div>\n",
       "<style scoped>\n",
       "    .dataframe tbody tr th:only-of-type {\n",
       "        vertical-align: middle;\n",
       "    }\n",
       "\n",
       "    .dataframe tbody tr th {\n",
       "        vertical-align: top;\n",
       "    }\n",
       "\n",
       "    .dataframe thead th {\n",
       "        text-align: right;\n",
       "    }\n",
       "</style>\n",
       "<table border=\"1\" class=\"dataframe\">\n",
       "  <thead>\n",
       "    <tr style=\"text-align: right;\">\n",
       "      <th></th>\n",
       "      <th>emp</th>\n",
       "      <th>msg</th>\n",
       "    </tr>\n",
       "  </thead>\n",
       "  <tbody>\n",
       "    <tr>\n",
       "      <th>301297</th>\n",
       "      <td>mann-k</td>\n",
       "      <td>Hi Guys,\\n\\nI can't recall if you have made an...</td>\n",
       "    </tr>\n",
       "    <tr>\n",
       "      <th>468934</th>\n",
       "      <td>symes-k</td>\n",
       "      <td>----------------------------------------------...</td>\n",
       "    </tr>\n",
       "    <tr>\n",
       "      <th>173412</th>\n",
       "      <td>horton-s</td>\n",
       "      <td>FYI\\n----- Forwarded by Joe Hartsoe/Corp/Enron...</td>\n",
       "    </tr>\n",
       "    <tr>\n",
       "      <th>255419</th>\n",
       "      <td>keiser-k</td>\n",
       "      <td>Do we need to make any changes to the EOL prod...</td>\n",
       "    </tr>\n",
       "    <tr>\n",
       "      <th>69710</th>\n",
       "      <td>dasovich-j</td>\n",
       "      <td>\\nHi All,\\n\\nDon't forget to RSVP to the EvMBA...</td>\n",
       "    </tr>\n",
       "    <tr>\n",
       "      <th>...</th>\n",
       "      <td>...</td>\n",
       "      <td>...</td>\n",
       "    </tr>\n",
       "    <tr>\n",
       "      <th>320864</th>\n",
       "      <td>mann-k</td>\n",
       "      <td>Maybe having 2 kids and an SUV makes you feel ...</td>\n",
       "    </tr>\n",
       "    <tr>\n",
       "      <th>204334</th>\n",
       "      <td>kaminski-v</td>\n",
       "      <td>Shirley,\\n\\nTransmission is my 1st choice.\\n\\n...</td>\n",
       "    </tr>\n",
       "    <tr>\n",
       "      <th>476946</th>\n",
       "      <td>taylor-m</td>\n",
       "      <td>----- Forwarded by Mark Taylor/HOU/ECT on 03/3...</td>\n",
       "    </tr>\n",
       "    <tr>\n",
       "      <th>47831</th>\n",
       "      <td>carson-m</td>\n",
       "      <td>my wife will be out of town,,,,, but that mean...</td>\n",
       "    </tr>\n",
       "    <tr>\n",
       "      <th>25817</th>\n",
       "      <td>beck-s</td>\n",
       "      <td>Sally:\\nIt has been a long time and I hope all...</td>\n",
       "    </tr>\n",
       "  </tbody>\n",
       "</table>\n",
       "<p>5000 rows × 2 columns</p>\n",
       "</div>"
      ],
      "text/plain": [
       "               emp                                                msg\n",
       "301297      mann-k  Hi Guys,\\n\\nI can't recall if you have made an...\n",
       "468934     symes-k  ----------------------------------------------...\n",
       "173412    horton-s  FYI\\n----- Forwarded by Joe Hartsoe/Corp/Enron...\n",
       "255419    keiser-k  Do we need to make any changes to the EOL prod...\n",
       "69710   dasovich-j  \\nHi All,\\n\\nDon't forget to RSVP to the EvMBA...\n",
       "...            ...                                                ...\n",
       "320864      mann-k  Maybe having 2 kids and an SUV makes you feel ...\n",
       "204334  kaminski-v  Shirley,\\n\\nTransmission is my 1st choice.\\n\\n...\n",
       "476946    taylor-m  ----- Forwarded by Mark Taylor/HOU/ECT on 03/3...\n",
       "47831     carson-m  my wife will be out of town,,,,, but that mean...\n",
       "25817       beck-s  Sally:\\nIt has been a long time and I hope all...\n",
       "\n",
       "[5000 rows x 2 columns]"
      ]
     },
     "execution_count": 53,
     "metadata": {},
     "output_type": "execute_result"
    }
   ],
   "source": [
    "df_final.sample(n=5000)"
   ]
  },
  {
   "cell_type": "code",
   "execution_count": null,
   "id": "923e83df-fa61-4115-aee6-c0d1fe90a730",
   "metadata": {},
   "outputs": [],
   "source": []
  }
 ],
 "metadata": {
  "kernelspec": {
   "display_name": "Python 3",
   "language": "python",
   "name": "python3"
  },
  "language_info": {
   "codemirror_mode": {
    "name": "ipython",
    "version": 3
   },
   "file_extension": ".py",
   "mimetype": "text/x-python",
   "name": "python",
   "nbconvert_exporter": "python",
   "pygments_lexer": "ipython3",
   "version": "3.8.10"
  }
 },
 "nbformat": 4,
 "nbformat_minor": 5
}
