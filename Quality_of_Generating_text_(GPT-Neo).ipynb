{
 "cells": [
  {
   "cell_type": "markdown",
   "id": "1456863d-5a4f-44be-bd0d-8b926b0148e8",
   "metadata": {},
   "source": [
    "First we have to load the required libraries."
   ]
  },
  {
   "cell_type": "code",
   "execution_count": 1,
   "id": "3eebd36e-f513-4e40-8f1b-2dbd39f0711e",
   "metadata": {},
   "outputs": [],
   "source": [
    "import pandas as pd\n",
    "import numpy as np\n",
    "import json\n",
    "import nltk\n",
    "import re\n",
    "import csv\n",
    "import matplotlib.pyplot as plt \n",
    "import seaborn as sns\n",
    "from tqdm import tqdm\n",
    "from sklearn.feature_extraction.text import TfidfVectorizer\n",
    "from sklearn.model_selection import train_test_split\n",
    "from transformers import GPT2Tokenizer, AutoModelForCausalLM, TrainingArguments, Trainer, AutoTokenizer\n",
    "import torch\n",
    "import pandas as pd\n",
    "from torch.utils.data import Dataset, DataLoader, random_split\n",
    "import os\n",
    "import openai"
   ]
  },
  {
   "cell_type": "code",
   "execution_count": 2,
   "id": "5305fa17-1be7-4024-a352-010f06308276",
   "metadata": {},
   "outputs": [],
   "source": [
    "torch.manual_seed(42)\n",
    "\n",
    "# Change tokenizer if needed\n",
    "tokenizer = AutoTokenizer.from_pretrained(\"EleutherAI/gpt-neo-1.3B\")\n",
    "\n",
    "# Load finetuned model\n",
    "# Change model_path to the directory of finetuned model\n",
    "model_path = 'Neo-50K-100%-v2/checkpoint-44384'\n",
    "model = AutoModelForCausalLM.from_pretrained(model_path, pad_token_id=tokenizer.eos_token_id).cuda()"
   ]
  },
  {
   "cell_type": "code",
   "execution_count": 3,
   "id": "80861bae-70e8-4305-9556-4dfe2392c4f7",
   "metadata": {},
   "outputs": [
    {
     "name": "stdout",
     "output_type": "stream",
     "text": [
      "cuda\n"
     ]
    }
   ],
   "source": [
    "device=torch.device(\"cuda\")\n",
    "print(device)"
   ]
  },
  {
   "cell_type": "code",
   "execution_count": 23,
   "id": "9cd9f94e-27a8-4cde-ae17-9012d6a56308",
   "metadata": {},
   "outputs": [
    {
     "data": {
      "text/html": [
       "<div>\n",
       "<style scoped>\n",
       "    .dataframe tbody tr th:only-of-type {\n",
       "        vertical-align: middle;\n",
       "    }\n",
       "\n",
       "    .dataframe tbody tr th {\n",
       "        vertical-align: top;\n",
       "    }\n",
       "\n",
       "    .dataframe thead th {\n",
       "        text-align: right;\n",
       "    }\n",
       "</style>\n",
       "<table border=\"1\" class=\"dataframe\">\n",
       "  <thead>\n",
       "    <tr style=\"text-align: right;\">\n",
       "      <th></th>\n",
       "      <th>text</th>\n",
       "    </tr>\n",
       "  </thead>\n",
       "  <tbody>\n",
       "    <tr>\n",
       "      <th>0</th>\n",
       "      <td>&lt;cs.CR&gt;:   The evolution of the traditional po...</td>\n",
       "    </tr>\n",
       "    <tr>\n",
       "      <th>1</th>\n",
       "      <td>&lt;cs.CR&gt;:   Energy storage provides an effectiv...</td>\n",
       "    </tr>\n",
       "    <tr>\n",
       "      <th>2</th>\n",
       "      <td>&lt;cs.CR&gt;:   In this paper we propose a novel me...</td>\n",
       "    </tr>\n",
       "    <tr>\n",
       "      <th>3</th>\n",
       "      <td>&lt;cs.CR&gt;:   Hardware and software of secured em...</td>\n",
       "    </tr>\n",
       "    <tr>\n",
       "      <th>4</th>\n",
       "      <td>&lt;cs.CR&gt;:   Today is the era of Internet of Thi...</td>\n",
       "    </tr>\n",
       "    <tr>\n",
       "      <th>...</th>\n",
       "      <td>...</td>\n",
       "    </tr>\n",
       "    <tr>\n",
       "      <th>34995</th>\n",
       "      <td>&lt;physics.optics&gt;:   The paper introduces a new...</td>\n",
       "    </tr>\n",
       "    <tr>\n",
       "      <th>34996</th>\n",
       "      <td>&lt;physics.optics&gt;:   A wave packet undergoes a ...</td>\n",
       "    </tr>\n",
       "    <tr>\n",
       "      <th>34997</th>\n",
       "      <td>&lt;physics.optics&gt;:   The central theme of this ...</td>\n",
       "    </tr>\n",
       "    <tr>\n",
       "      <th>34998</th>\n",
       "      <td>&lt;physics.optics&gt;:   Limited by the difficulty ...</td>\n",
       "    </tr>\n",
       "    <tr>\n",
       "      <th>34999</th>\n",
       "      <td>&lt;physics.optics&gt;:   Highly nonlinear optical p...</td>\n",
       "    </tr>\n",
       "  </tbody>\n",
       "</table>\n",
       "<p>35000 rows × 1 columns</p>\n",
       "</div>"
      ],
      "text/plain": [
       "                                                    text\n",
       "0      <cs.CR>:   The evolution of the traditional po...\n",
       "1      <cs.CR>:   Energy storage provides an effectiv...\n",
       "2      <cs.CR>:   In this paper we propose a novel me...\n",
       "3      <cs.CR>:   Hardware and software of secured em...\n",
       "4      <cs.CR>:   Today is the era of Internet of Thi...\n",
       "...                                                  ...\n",
       "34995  <physics.optics>:   The paper introduces a new...\n",
       "34996  <physics.optics>:   A wave packet undergoes a ...\n",
       "34997  <physics.optics>:   The central theme of this ...\n",
       "34998  <physics.optics>:   Limited by the difficulty ...\n",
       "34999  <physics.optics>:   Highly nonlinear optical p...\n",
       "\n",
       "[35000 rows x 1 columns]"
      ]
     },
     "execution_count": 23,
     "metadata": {},
     "output_type": "execute_result"
    }
   ],
   "source": [
    "# Load Dataset\n",
    "data_file = pd.read_csv('equal_dataset_35000.csv')\n",
    "data_file.drop('Unnamed: 0', inplace=True, axis=1)\n",
    "data_file"
   ]
  },
  {
   "cell_type": "code",
   "execution_count": 27,
   "id": "ade9f069-cdf9-4351-a316-6774b71ce2dd",
   "metadata": {},
   "outputs": [],
   "source": [
    "def generate_text(model, idx_data, len_prompt, max_seq_len, do_sample=True, temperature=None, top_k=None):\n",
    "    prompt = ' '.join(data_file['text'][idx].split()[1:1+len_prompt])\n",
    "\n",
    "    input_ids = tokenizer(prompt, return_tensors='pt').to(device)\n",
    "\n",
    "    if temperature:\n",
    "        gen_text = model.generate(**input_ids, max_length=max_seq_len, do_sample=do_sample, temperature=temperature)\n",
    "    elif top_k:\n",
    "        gen_text = model.generate(**input_ids, max_length=max_seq_len, do_sample=do_sample, top_k=top_k)\n",
    "    \n",
    "    gen_text = tokenizer.decode(gen_text[0], skip_special_tokens=True)\n",
    "\n",
    "    print('=================================Prompt=================================')\n",
    "    print(prompt)\n",
    "    print('\\n')\n",
    "    print('===========================Ground Truth Text===========================')\n",
    "    print(' '.join(data_file['text'][idx].split()[1:1+max_seq_len]))\n",
    "    print('\\n')\n",
    "    print('=============================Generated Text============================')\n",
    "    print(gen_text)\n"
   ]
  },
  {
   "cell_type": "code",
   "execution_count": 30,
   "id": "c72369c8-40d7-4adf-8245-31d8f2174296",
   "metadata": {},
   "outputs": [
    {
     "name": "stdout",
     "output_type": "stream",
     "text": [
      "=================================Prompt=================================\n",
      "The evolution of the traditional power system towards the modern\n",
      "\n",
      "\n",
      "===========================Ground Truth Text===========================\n",
      "The evolution of the traditional power system towards the modern smart grid has posed many new cybersecurity challenges to this critical infrastructure. One of the most dangerous cybersecurity threats is the False Data Injection (FDI) attack, especially when it is capable of completely bypassing the widely deployed Bad Data Detector of State Estimation and interrupting the normal operation of the power system. Most of the simulated FDI attacks are designed using simplified linearized DC model while most industry standard State Estimation systems are based on the nonlinear AC model. In this paper, a comprehensive FDI attack scheme is presented based\n",
      "\n",
      "\n",
      "=============================Generated Text============================\n",
      "The evolution of the traditional power system towards the modern smart grid\n",
      "shows increasing diversity of services and market demands, leading to more\n",
      "complex and active grid networks. In this context, reliability of power\n",
      "systems is one of the most important issues, and the efficient operation of\n",
      "them becomes challenging. The presence of highly dynamic renewable energy\n",
      "resources and other nonlinear characteristics of modern power systems makes\n",
      "it more difficult to manage, and to interpret mathematical models, which is\n",
      "one of the main obstacles\n"
     ]
    }
   ],
   "source": [
    "# Temperature-based sampling\n",
    "generate_text(model=model, idx_data=0, len_prompt=10, max_seq_len=100, temperature=0.7)"
   ]
  },
  {
   "cell_type": "code",
   "execution_count": 31,
   "id": "c30b2d0a-a325-4a33-84e0-9a19b91c1a36",
   "metadata": {},
   "outputs": [
    {
     "name": "stdout",
     "output_type": "stream",
     "text": [
      "=================================Prompt=================================\n",
      "The evolution of the traditional power system towards the modern\n",
      "\n",
      "\n",
      "===========================Ground Truth Text===========================\n",
      "The evolution of the traditional power system towards the modern smart grid has posed many new cybersecurity challenges to this critical infrastructure. One of the most dangerous cybersecurity threats is the False Data Injection (FDI) attack, especially when it is capable of completely bypassing the widely deployed Bad Data Detector of State Estimation and interrupting the normal operation of the power system. Most of the simulated FDI attacks are designed using simplified linearized DC model while most industry standard State Estimation systems are based on the nonlinear AC model. In this paper, a comprehensive FDI attack scheme is presented based\n",
      "\n",
      "\n",
      "=============================Generated Text============================\n",
      "The evolution of the traditional power system towards the modern unit\n",
      "level has been discussed in this paper. The unit level represents the\n",
      "basis for the analysis and comparison of power systems. The performance\n",
      "differences between the traditional power system and the modern unit level\n",
      "power system are also discussed. The unit level may help to solve the problems\n",
      "of nonlinearity and nonstationarity of the power system performance. The\n",
      "performance analysis of the traditional power system and the modern unit level\n",
      "power system\n"
     ]
    }
   ],
   "source": [
    "# Deterministic (argmax) sampling\n",
    "generate_text(model=model, idx_data=0, len_prompt=10, max_seq_len=100, do_sample=False, temperature=1)"
   ]
  },
  {
   "cell_type": "code",
   "execution_count": 32,
   "id": "c8aaede9-8314-4beb-ad75-cd32db95f6b6",
   "metadata": {},
   "outputs": [
    {
     "name": "stdout",
     "output_type": "stream",
     "text": [
      "=================================Prompt=================================\n",
      "The evolution of the traditional power system towards the modern\n",
      "\n",
      "\n",
      "===========================Ground Truth Text===========================\n",
      "The evolution of the traditional power system towards the modern smart grid has posed many new cybersecurity challenges to this critical infrastructure. One of the most dangerous cybersecurity threats is the False Data Injection (FDI) attack, especially when it is capable of completely bypassing the widely deployed Bad Data Detector of State Estimation and interrupting the normal operation of the power system. Most of the simulated FDI attacks are designed using simplified linearized DC model while most industry standard State Estimation systems are based on the nonlinear AC model. In this paper, a comprehensive FDI attack scheme is presented based\n",
      "\n",
      "\n",
      "=============================Generated Text============================\n",
      "The evolution of the traditional power system towards the modern unit\n",
      "energy system is a complex process, especially during the initial stage, when\n",
      "the power grid is new. During this process, a great effort is made to introduce\n",
      "alternative technologies and efficient ways of utilizing the energy. This letter\n",
      "is focusing on the digital architecture of the initial stage of unit energy\n",
      "system. Particularly, a new strategy of using the Smart Grid for Power System\n",
      "Design, Implementation, and operation is proposed, and its\n"
     ]
    }
   ],
   "source": [
    "# Top_k sampling\n",
    "generate_text(model=model, idx_data=0, len_prompt=10, max_seq_len=100, do_sample=True, top_k=40)"
   ]
  },
  {
   "cell_type": "code",
   "execution_count": null,
   "id": "7c6d237f-5fd6-4381-a5da-8b22a4603c8d",
   "metadata": {},
   "outputs": [],
   "source": []
  },
  {
   "cell_type": "code",
   "execution_count": null,
   "id": "a1f04727-3db8-40d8-8cf3-18bb749494e9",
   "metadata": {},
   "outputs": [],
   "source": []
  },
  {
   "cell_type": "code",
   "execution_count": null,
   "id": "1156ffe5-8f6a-4961-8c28-1af840d9fc81",
   "metadata": {},
   "outputs": [],
   "source": []
  }
 ],
 "metadata": {
  "kernelspec": {
   "display_name": "Python (anaconda3-myenvNLP)",
   "language": "python",
   "name": "conda-env-anaconda3-myenvNLP-py"
  },
  "language_info": {
   "codemirror_mode": {
    "name": "ipython",
    "version": 3
   },
   "file_extension": ".py",
   "mimetype": "text/x-python",
   "name": "python",
   "nbconvert_exporter": "python",
   "pygments_lexer": "ipython3",
   "version": "3.10.8"
  }
 },
 "nbformat": 4,
 "nbformat_minor": 5
}
