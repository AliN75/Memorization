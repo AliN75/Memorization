{
 "cells": [
  {
   "cell_type": "code",
   "execution_count": 1,
   "id": "7fc930cb-d669-499f-a264-02b50c8aa32e",
   "metadata": {},
   "outputs": [],
   "source": [
    "import pandas as pd\n",
    "import email"
   ]
  },
  {
   "cell_type": "code",
   "execution_count": 3,
   "id": "33e5362e-b21c-48f1-a91d-5df8cd8af2a9",
   "metadata": {},
   "outputs": [],
   "source": [
    "data_path = '/home/vaishnavi/cs685/data/emails.csv'"
   ]
  },
  {
   "cell_type": "code",
   "execution_count": 4,
   "id": "c28aaed5-ff96-45d3-879f-0ac5a9877a4f",
   "metadata": {},
   "outputs": [],
   "source": [
    "df = pd.read_csv(data_path)"
   ]
  },
  {
   "cell_type": "code",
   "execution_count": 5,
   "id": "ac3946ac-ac51-47b0-b7c7-2726969d2eb1",
   "metadata": {},
   "outputs": [],
   "source": [
    "cats = df['file'].tolist()"
   ]
  },
  {
   "cell_type": "code",
   "execution_count": 6,
   "id": "b6c85e78-9cd4-4920-baf7-5b020175db86",
   "metadata": {},
   "outputs": [],
   "source": [
    "cats = [x.split('/')[0] for x in cats]"
   ]
  },
  {
   "cell_type": "code",
   "execution_count": 7,
   "id": "a1d5748f-f184-41fd-a129-0d38f1ca30a6",
   "metadata": {},
   "outputs": [
    {
     "data": {
      "text/plain": [
       "150"
      ]
     },
     "execution_count": 7,
     "metadata": {},
     "output_type": "execute_result"
    }
   ],
   "source": [
    "len(set(cats))"
   ]
  },
  {
   "cell_type": "code",
   "execution_count": 8,
   "id": "ee324bde-e342-47a1-a3c9-658c74e58248",
   "metadata": {},
   "outputs": [],
   "source": [
    "def body(messages):\n",
    "    column = []\n",
    "    for message in messages:\n",
    "        e = email.message_from_string(message)\n",
    "        column.append(e.get_payload())\n",
    "    return column"
   ]
  },
  {
   "cell_type": "code",
   "execution_count": 9,
   "id": "f27f3fe3-ca0d-407e-be7f-3632eeeeb9c4",
   "metadata": {},
   "outputs": [],
   "source": [
    "msgs = body(df['message'])"
   ]
  },
  {
   "cell_type": "code",
   "execution_count": 10,
   "id": "a7441dfc-dcb2-4161-a5d3-0e1da00a1c93",
   "metadata": {},
   "outputs": [],
   "source": [
    "df_final = pd.DataFrame({'emp': cats, 'msg': msgs})"
   ]
  },
  {
   "cell_type": "code",
   "execution_count": 11,
   "id": "293c562a-2378-43d4-8791-1f48eb2c31c0",
   "metadata": {},
   "outputs": [
    {
     "data": {
      "text/html": [
       "<div>\n",
       "<style scoped>\n",
       "    .dataframe tbody tr th:only-of-type {\n",
       "        vertical-align: middle;\n",
       "    }\n",
       "\n",
       "    .dataframe tbody tr th {\n",
       "        vertical-align: top;\n",
       "    }\n",
       "\n",
       "    .dataframe thead th {\n",
       "        text-align: right;\n",
       "    }\n",
       "</style>\n",
       "<table border=\"1\" class=\"dataframe\">\n",
       "  <thead>\n",
       "    <tr style=\"text-align: right;\">\n",
       "      <th></th>\n",
       "      <th>emp</th>\n",
       "      <th>msg</th>\n",
       "    </tr>\n",
       "  </thead>\n",
       "  <tbody>\n",
       "    <tr>\n",
       "      <th>0</th>\n",
       "      <td>allen-p</td>\n",
       "      <td>Here is our forecast\\n\\n</td>\n",
       "    </tr>\n",
       "    <tr>\n",
       "      <th>1</th>\n",
       "      <td>allen-p</td>\n",
       "      <td>Traveling to have a business meeting takes the...</td>\n",
       "    </tr>\n",
       "    <tr>\n",
       "      <th>2</th>\n",
       "      <td>allen-p</td>\n",
       "      <td>test successful.  way to go!!!</td>\n",
       "    </tr>\n",
       "    <tr>\n",
       "      <th>3</th>\n",
       "      <td>allen-p</td>\n",
       "      <td>Randy,\\n\\n Can you send me a schedule of the s...</td>\n",
       "    </tr>\n",
       "    <tr>\n",
       "      <th>4</th>\n",
       "      <td>allen-p</td>\n",
       "      <td>Let's shoot for Tuesday at 11:45.</td>\n",
       "    </tr>\n",
       "    <tr>\n",
       "      <th>...</th>\n",
       "      <td>...</td>\n",
       "      <td>...</td>\n",
       "    </tr>\n",
       "    <tr>\n",
       "      <th>517396</th>\n",
       "      <td>zufferli-j</td>\n",
       "      <td>This is a trade with OIL-SPEC-HEDGE-NG (John L...</td>\n",
       "    </tr>\n",
       "    <tr>\n",
       "      <th>517397</th>\n",
       "      <td>zufferli-j</td>\n",
       "      <td>Some of my position is with the Alberta Term b...</td>\n",
       "    </tr>\n",
       "    <tr>\n",
       "      <th>517398</th>\n",
       "      <td>zufferli-j</td>\n",
       "      <td>2\\n\\n -----Original Message-----\\nFrom: \\tDouc...</td>\n",
       "    </tr>\n",
       "    <tr>\n",
       "      <th>517399</th>\n",
       "      <td>zufferli-j</td>\n",
       "      <td>Analyst\\t\\t\\t\\t\\tRank\\n\\nStephane Brodeur\\t\\t\\...</td>\n",
       "    </tr>\n",
       "    <tr>\n",
       "      <th>517400</th>\n",
       "      <td>zufferli-j</td>\n",
       "      <td>i think the YMCA has a class that is for peopl...</td>\n",
       "    </tr>\n",
       "  </tbody>\n",
       "</table>\n",
       "<p>517401 rows × 2 columns</p>\n",
       "</div>"
      ],
      "text/plain": [
       "               emp                                                msg\n",
       "0          allen-p                          Here is our forecast\\n\\n \n",
       "1          allen-p  Traveling to have a business meeting takes the...\n",
       "2          allen-p                     test successful.  way to go!!!\n",
       "3          allen-p  Randy,\\n\\n Can you send me a schedule of the s...\n",
       "4          allen-p                Let's shoot for Tuesday at 11:45.  \n",
       "...            ...                                                ...\n",
       "517396  zufferli-j  This is a trade with OIL-SPEC-HEDGE-NG (John L...\n",
       "517397  zufferli-j  Some of my position is with the Alberta Term b...\n",
       "517398  zufferli-j  2\\n\\n -----Original Message-----\\nFrom: \\tDouc...\n",
       "517399  zufferli-j  Analyst\\t\\t\\t\\t\\tRank\\n\\nStephane Brodeur\\t\\t\\...\n",
       "517400  zufferli-j  i think the YMCA has a class that is for peopl...\n",
       "\n",
       "[517401 rows x 2 columns]"
      ]
     },
     "execution_count": 11,
     "metadata": {},
     "output_type": "execute_result"
    }
   ],
   "source": [
    "df_final"
   ]
  },
  {
   "cell_type": "code",
   "execution_count": 12,
   "id": "a3a49103-d611-4c9c-a8b7-d2993f56ce84",
   "metadata": {},
   "outputs": [],
   "source": [
    "from transformers import GPT2TokenizerFast\n",
    "tokenizer = GPT2TokenizerFast.from_pretrained(\"gpt2-large\")"
   ]
  },
  {
   "cell_type": "code",
   "execution_count": 13,
   "id": "7a50269a-98f3-4751-9e35-13d9bc0ecbc2",
   "metadata": {},
   "outputs": [
    {
     "data": {
      "text/plain": [
       "'Here is our forecast\\n\\n '"
      ]
     },
     "execution_count": 13,
     "metadata": {},
     "output_type": "execute_result"
    }
   ],
   "source": [
    "df_final['msg'][0]"
   ]
  },
  {
   "cell_type": "code",
   "execution_count": null,
   "id": "afd7dc21-66d8-4d70-a22e-65325d3add9b",
   "metadata": {},
   "outputs": [],
   "source": [
    "# def filter_func1(msg):\n",
    "#     #  crude filtering to remove too small or large sentences\n",
    "#     length = len(msg.split(' '))\n",
    "#     return True if length > 150 and length < 1070 else False    \n",
    "# def filter_func2(msg):\n",
    "#     length = len(tokenizer(msg)['input_ids'])\n",
    "#     return True if length > 170 and length < 1023 else False"
   ]
  },
  {
   "cell_type": "code",
   "execution_count": 15,
   "id": "f4d5bac5-6439-413b-a007-ea526fc631ab",
   "metadata": {},
   "outputs": [
    {
     "data": {
      "text/plain": [
       "(517401, 2)"
      ]
     },
     "execution_count": 15,
     "metadata": {},
     "output_type": "execute_result"
    }
   ],
   "source": [
    "df_final.shape"
   ]
  },
  {
   "cell_type": "code",
   "execution_count": 24,
   "id": "a94a5a2c-b127-4ccf-82dc-9b2a4625942d",
   "metadata": {},
   "outputs": [],
   "source": [
    "n = df_final.shape[0]"
   ]
  },
  {
   "cell_type": "code",
   "execution_count": 25,
   "id": "77a65ec8-4210-47e4-9238-cc207c4ccad4",
   "metadata": {},
   "outputs": [
    {
     "data": {
      "text/plain": [
       "517401"
      ]
     },
     "execution_count": 25,
     "metadata": {},
     "output_type": "execute_result"
    }
   ],
   "source": [
    "n"
   ]
  },
  {
   "cell_type": "code",
   "execution_count": 26,
   "id": "23ee75fc-a760-4dfd-97c8-1cc57fb51986",
   "metadata": {},
   "outputs": [],
   "source": [
    "se = [(i, i+1000) for i in range(0, n, 1000)]"
   ]
  },
  {
   "cell_type": "code",
   "execution_count": 40,
   "id": "43ac0f9c-5457-428b-9668-d4d64e5e2bea",
   "metadata": {},
   "outputs": [],
   "source": [
    "import numpy as np"
   ]
  },
  {
   "cell_type": "code",
   "execution_count": 100,
   "id": "38e87f43-8e8f-4f5a-84b9-4a9c8f7e0426",
   "metadata": {},
   "outputs": [],
   "source": [
    "def batch_tokenize(msgs):\n",
    "    batch_res = tokenizer(msgs)['input_ids']\n",
    "    batch_len = np.asarray([len(b) for b in batch_res])\n",
    "    val_idx = np.where((batch_len > 170) & (batch_len < 1023))[0]\n",
    "    return val_idx, batch_len[val_idx]"
   ]
  },
  {
   "cell_type": "code",
   "execution_count": 101,
   "id": "7b6294e1-f386-4cec-959b-419f017f3235",
   "metadata": {},
   "outputs": [],
   "source": [
    "# tokenizer(df_final['msg'][:100].tolist())['input_ids']"
   ]
  },
  {
   "cell_type": "code",
   "execution_count": 102,
   "id": "a93e57a9-2284-4764-8f40-922d0bf929bd",
   "metadata": {},
   "outputs": [],
   "source": [
    "from tqdm import tqdm"
   ]
  },
  {
   "cell_type": "code",
   "execution_count": 103,
   "id": "c434f989-e133-4ca5-a02c-811800695fb4",
   "metadata": {},
   "outputs": [
    {
     "name": "stderr",
     "output_type": "stream",
     "text": [
      "100%|██████████| 518/518 [04:03<00:00,  2.13it/s]\n"
     ]
    }
   ],
   "source": [
    "out = []\n",
    "out_len = []\n",
    "for s, e in tqdm(se):\n",
    "    temp = df_final[s:e]\n",
    "    val_idx, val_lengths = batch_tokenize(temp['msg'].tolist())\n",
    "    out.append(temp.iloc[val_idx])\n",
    "    out_len.extend(val_lengths.tolist())"
   ]
  },
  {
   "cell_type": "code",
   "execution_count": 104,
   "id": "6f485cd0-c9f9-48b9-b92e-719321d65f42",
   "metadata": {},
   "outputs": [
    {
     "data": {
      "text/plain": [
       "246332"
      ]
     },
     "execution_count": 104,
     "metadata": {},
     "output_type": "execute_result"
    }
   ],
   "source": [
    "len(out_len)"
   ]
  },
  {
   "cell_type": "code",
   "execution_count": 106,
   "id": "b547e376-bacb-4e9a-b9a5-dce74abc9b24",
   "metadata": {},
   "outputs": [],
   "source": [
    "pd.DataFrame({'lengths': out_len}).to_csv('./processed_lengths.csv')"
   ]
  },
  {
   "cell_type": "code",
   "execution_count": 108,
   "id": "fc494399-e22a-455d-9162-2d119c93eff1",
   "metadata": {},
   "outputs": [],
   "source": [
    "import matplotlib.pyplot as plt"
   ]
  },
  {
   "cell_type": "code",
   "execution_count": 117,
   "id": "d39bea61-ebee-4f8e-838d-60ed0ffd9a53",
   "metadata": {},
   "outputs": [
    {
     "data": {
      "image/png": "[encoded data removed]",
      "text/plain": [
       "<Figure size 432x288 with 1 Axes>"
      ]
     },
     "metadata": {
      "needs_background": "light"
     },
     "output_type": "display_data"
    }
   ],
   "source": [
    "plt.hist(out_len, bins=100)\n",
    "plt.xlabel('Sample length')\n",
    "plt.ylabel('Count')\n",
    "plt.title('Enron dataset sample lengths')\n",
    "plt.show()\n",
    "plt.close()"
   ]
  },
  {
   "cell_type": "code",
   "execution_count": null,
   "id": "645e8b6a-695c-4d2b-b750-68dd5d47d5e6",
   "metadata": {},
   "outputs": [],
   "source": []
  },
  {
   "cell_type": "code",
   "execution_count": null,
   "id": "f3e770f4-d886-403b-9b27-b8aaf3f7030a",
   "metadata": {},
   "outputs": [],
   "source": []
  },
  {
   "cell_type": "code",
   "execution_count": 64,
   "id": "ee60143f-e349-4aea-9b46-7d128458f102",
   "metadata": {},
   "outputs": [],
   "source": [
    "output_df = pd.concat(out, axis=0).reset_index(drop=True)"
   ]
  },
  {
   "cell_type": "code",
   "execution_count": 67,
   "id": "a5fff9bd-c02a-4912-a660-b52dc6b821e5",
   "metadata": {},
   "outputs": [
    {
     "data": {
      "text/html": [
       "<div>\n",
       "<style scoped>\n",
       "    .dataframe tbody tr th:only-of-type {\n",
       "        vertical-align: middle;\n",
       "    }\n",
       "\n",
       "    .dataframe tbody tr th {\n",
       "        vertical-align: top;\n",
       "    }\n",
       "\n",
       "    .dataframe thead th {\n",
       "        text-align: right;\n",
       "    }\n",
       "</style>\n",
       "<table border=\"1\" class=\"dataframe\">\n",
       "  <thead>\n",
       "    <tr style=\"text-align: right;\">\n",
       "      <th></th>\n",
       "      <th>emp</th>\n",
       "      <th>msg</th>\n",
       "    </tr>\n",
       "  </thead>\n",
       "  <tbody>\n",
       "    <tr>\n",
       "      <th>0</th>\n",
       "      <td>allen-p</td>\n",
       "      <td>---------------------- Forwarded by Phillip K ...</td>\n",
       "    </tr>\n",
       "    <tr>\n",
       "      <th>1</th>\n",
       "      <td>allen-p</td>\n",
       "      <td>---------------------- Forwarded by Phillip K ...</td>\n",
       "    </tr>\n",
       "    <tr>\n",
       "      <th>2</th>\n",
       "      <td>allen-p</td>\n",
       "      <td>---------------------- Forwarded by Phillip K ...</td>\n",
       "    </tr>\n",
       "    <tr>\n",
       "      <th>3</th>\n",
       "      <td>allen-p</td>\n",
       "      <td>---------------------- Forwarded by Phillip K ...</td>\n",
       "    </tr>\n",
       "    <tr>\n",
       "      <th>4</th>\n",
       "      <td>allen-p</td>\n",
       "      <td>---------------------- Forwarded by Phillip K ...</td>\n",
       "    </tr>\n",
       "    <tr>\n",
       "      <th>...</th>\n",
       "      <td>...</td>\n",
       "      <td>...</td>\n",
       "    </tr>\n",
       "    <tr>\n",
       "      <th>246327</th>\n",
       "      <td>zufferli-j</td>\n",
       "      <td>\\n\\n -----Original Message-----\\nFrom: \\t\"John...</td>\n",
       "    </tr>\n",
       "    <tr>\n",
       "      <th>246328</th>\n",
       "      <td>zufferli-j</td>\n",
       "      <td>I will have 4 books:\\n\\nCAND-MGMT-BAS for all ...</td>\n",
       "    </tr>\n",
       "    <tr>\n",
       "      <th>246329</th>\n",
       "      <td>zufferli-j</td>\n",
       "      <td>Nicole and everyone, I think the directory is ...</td>\n",
       "    </tr>\n",
       "    <tr>\n",
       "      <th>246330</th>\n",
       "      <td>zufferli-j</td>\n",
       "      <td>\\n\\n -----Original Message-----\\nFrom: \\t\"Lern...</td>\n",
       "    </tr>\n",
       "    <tr>\n",
       "      <th>246331</th>\n",
       "      <td>zufferli-j</td>\n",
       "      <td>very busy, jess is ok just scared\\n\\n -----Ori...</td>\n",
       "    </tr>\n",
       "  </tbody>\n",
       "</table>\n",
       "<p>246332 rows × 2 columns</p>\n",
       "</div>"
      ],
      "text/plain": [
       "               emp                                                msg\n",
       "0          allen-p  ---------------------- Forwarded by Phillip K ...\n",
       "1          allen-p  ---------------------- Forwarded by Phillip K ...\n",
       "2          allen-p  ---------------------- Forwarded by Phillip K ...\n",
       "3          allen-p  ---------------------- Forwarded by Phillip K ...\n",
       "4          allen-p  ---------------------- Forwarded by Phillip K ...\n",
       "...            ...                                                ...\n",
       "246327  zufferli-j  \\n\\n -----Original Message-----\\nFrom: \\t\"John...\n",
       "246328  zufferli-j  I will have 4 books:\\n\\nCAND-MGMT-BAS for all ...\n",
       "246329  zufferli-j  Nicole and everyone, I think the directory is ...\n",
       "246330  zufferli-j  \\n\\n -----Original Message-----\\nFrom: \\t\"Lern...\n",
       "246331  zufferli-j  very busy, jess is ok just scared\\n\\n -----Ori...\n",
       "\n",
       "[246332 rows x 2 columns]"
      ]
     },
     "execution_count": 67,
     "metadata": {},
     "output_type": "execute_result"
    }
   ],
   "source": [
    "output_df"
   ]
  },
  {
   "cell_type": "code",
   "execution_count": 72,
   "id": "2d133bea-5ce5-43da-84a9-0e4e5988fc5e",
   "metadata": {},
   "outputs": [
    {
     "data": {
      "text/plain": [
       "150"
      ]
     },
     "execution_count": 72,
     "metadata": {},
     "output_type": "execute_result"
    }
   ],
   "source": [
    "len(output_df['emp'].unique())"
   ]
  },
  {
   "cell_type": "code",
   "execution_count": 68,
   "id": "45375cd0-bb59-474d-9684-947fa65c1c00",
   "metadata": {},
   "outputs": [],
   "source": [
    "final = '<' + output_df['emp'] + '>: ' + output_df['msg']"
   ]
  },
  {
   "cell_type": "code",
   "execution_count": 69,
   "id": "c3ee1fc8-5345-4db0-a646-ae2f6daa83b8",
   "metadata": {},
   "outputs": [
    {
     "data": {
      "text/plain": [
       "0         <allen-p>: ---------------------- Forwarded by...\n",
       "1         <allen-p>: ---------------------- Forwarded by...\n",
       "2         <allen-p>: ---------------------- Forwarded by...\n",
       "3         <allen-p>: ---------------------- Forwarded by...\n",
       "4         <allen-p>: ---------------------- Forwarded by...\n",
       "                                ...                        \n",
       "246327    <zufferli-j>: \\n\\n -----Original Message-----\\...\n",
       "246328    <zufferli-j>: I will have 4 books:\\n\\nCAND-MGM...\n",
       "246329    <zufferli-j>: Nicole and everyone, I think the...\n",
       "246330    <zufferli-j>: \\n\\n -----Original Message-----\\...\n",
       "246331    <zufferli-j>: very busy, jess is ok just scare...\n",
       "Length: 246332, dtype: object"
      ]
     },
     "execution_count": 69,
     "metadata": {},
     "output_type": "execute_result"
    }
   ],
   "source": [
    "final"
   ]
  },
  {
   "cell_type": "code",
   "execution_count": 87,
   "id": "913781e9-9010-4a5c-aae3-b42a33597587",
   "metadata": {},
   "outputs": [
    {
     "name": "stdout",
     "output_type": "stream",
     "text": [
      "5000\n",
      "20000\n",
      "35000\n",
      "50000\n"
     ]
    }
   ],
   "source": [
    "for size in [5000, 20000, 35000, 50000]:\n",
    "    sampled = final.sample(size)\n",
    "    sampled.to_csv(f'enron_dataset_{size}.csv', index = False)\n",
    "    print(size)"
   ]
  },
  {
   "cell_type": "code",
   "execution_count": 89,
   "id": "4b4c22b6-1f0c-4992-a4e4-438948055155",
   "metadata": {},
   "outputs": [],
   "source": [
    "output_df.to_csv('./enron_processed.csv')"
   ]
  },
  {
   "cell_type": "code",
   "execution_count": 90,
   "id": "7271f2e2-5252-480d-90cd-906bebc0f129",
   "metadata": {},
   "outputs": [
    {
     "data": {
      "text/html": [
       "<div>\n",
       "<style scoped>\n",
       "    .dataframe tbody tr th:only-of-type {\n",
       "        vertical-align: middle;\n",
       "    }\n",
       "\n",
       "    .dataframe tbody tr th {\n",
       "        vertical-align: top;\n",
       "    }\n",
       "\n",
       "    .dataframe thead th {\n",
       "        text-align: right;\n",
       "    }\n",
       "</style>\n",
       "<table border=\"1\" class=\"dataframe\">\n",
       "  <thead>\n",
       "    <tr style=\"text-align: right;\">\n",
       "      <th></th>\n",
       "      <th>emp</th>\n",
       "      <th>msg</th>\n",
       "    </tr>\n",
       "  </thead>\n",
       "  <tbody>\n",
       "    <tr>\n",
       "      <th>0</th>\n",
       "      <td>allen-p</td>\n",
       "      <td>---------------------- Forwarded by Phillip K ...</td>\n",
       "    </tr>\n",
       "    <tr>\n",
       "      <th>1</th>\n",
       "      <td>allen-p</td>\n",
       "      <td>---------------------- Forwarded by Phillip K ...</td>\n",
       "    </tr>\n",
       "    <tr>\n",
       "      <th>2</th>\n",
       "      <td>allen-p</td>\n",
       "      <td>---------------------- Forwarded by Phillip K ...</td>\n",
       "    </tr>\n",
       "    <tr>\n",
       "      <th>3</th>\n",
       "      <td>allen-p</td>\n",
       "      <td>---------------------- Forwarded by Phillip K ...</td>\n",
       "    </tr>\n",
       "    <tr>\n",
       "      <th>4</th>\n",
       "      <td>allen-p</td>\n",
       "      <td>---------------------- Forwarded by Phillip K ...</td>\n",
       "    </tr>\n",
       "    <tr>\n",
       "      <th>...</th>\n",
       "      <td>...</td>\n",
       "      <td>...</td>\n",
       "    </tr>\n",
       "    <tr>\n",
       "      <th>246327</th>\n",
       "      <td>zufferli-j</td>\n",
       "      <td>\\n\\n -----Original Message-----\\nFrom: \\t\"John...</td>\n",
       "    </tr>\n",
       "    <tr>\n",
       "      <th>246328</th>\n",
       "      <td>zufferli-j</td>\n",
       "      <td>I will have 4 books:\\n\\nCAND-MGMT-BAS for all ...</td>\n",
       "    </tr>\n",
       "    <tr>\n",
       "      <th>246329</th>\n",
       "      <td>zufferli-j</td>\n",
       "      <td>Nicole and everyone, I think the directory is ...</td>\n",
       "    </tr>\n",
       "    <tr>\n",
       "      <th>246330</th>\n",
       "      <td>zufferli-j</td>\n",
       "      <td>\\n\\n -----Original Message-----\\nFrom: \\t\"Lern...</td>\n",
       "    </tr>\n",
       "    <tr>\n",
       "      <th>246331</th>\n",
       "      <td>zufferli-j</td>\n",
       "      <td>very busy, jess is ok just scared\\n\\n -----Ori...</td>\n",
       "    </tr>\n",
       "  </tbody>\n",
       "</table>\n",
       "<p>246332 rows × 2 columns</p>\n",
       "</div>"
      ],
      "text/plain": [
       "               emp                                                msg\n",
       "0          allen-p  ---------------------- Forwarded by Phillip K ...\n",
       "1          allen-p  ---------------------- Forwarded by Phillip K ...\n",
       "2          allen-p  ---------------------- Forwarded by Phillip K ...\n",
       "3          allen-p  ---------------------- Forwarded by Phillip K ...\n",
       "4          allen-p  ---------------------- Forwarded by Phillip K ...\n",
       "...            ...                                                ...\n",
       "246327  zufferli-j  \\n\\n -----Original Message-----\\nFrom: \\t\"John...\n",
       "246328  zufferli-j  I will have 4 books:\\n\\nCAND-MGMT-BAS for all ...\n",
       "246329  zufferli-j  Nicole and everyone, I think the directory is ...\n",
       "246330  zufferli-j  \\n\\n -----Original Message-----\\nFrom: \\t\"Lern...\n",
       "246331  zufferli-j  very busy, jess is ok just scared\\n\\n -----Ori...\n",
       "\n",
       "[246332 rows x 2 columns]"
      ]
     },
     "execution_count": 90,
     "metadata": {},
     "output_type": "execute_result"
    }
   ],
   "source": [
    "output_df"
   ]
  }
 ],
 "metadata": {
  "kernelspec": {
   "display_name": "Python 3",
   "language": "python",
   "name": "python3"
  },
  "language_info": {
   "codemirror_mode": {
    "name": "ipython",
    "version": 3
   },
   "file_extension": ".py",
   "mimetype": "text/x-python",
   "name": "python",
   "nbconvert_exporter": "python",
   "pygments_lexer": "ipython3",
   "version": "3.8.10"
  }
 },
 "nbformat": 4,
 "nbformat_minor": 5
}
